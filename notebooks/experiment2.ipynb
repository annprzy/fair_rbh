{
 "cells": [
  {
   "metadata": {},
   "cell_type": "markdown",
   "source": "# Binary case",
   "id": "5e91f95824e4cc25"
  },
  {
   "metadata": {},
   "cell_type": "code",
   "outputs": [],
   "execution_count": null,
   "source": [
    "from src.experiments_adult import experiment_adult\n",
    "from joblib import Parallel, delayed\n",
    "from itertools import product\n",
    "import os\n",
    "\n",
    "algorithms = ['fair_rbh', 'hfos', 'fos', 'fawos'] \n",
    "models = ['logistic_regression', 'decision_tree', 'mlp']\n",
    "kfolds = 10\n",
    "encoding = 'cont_ord_cat'\n",
    "date = '2024-06-29'\n",
    "config_path = '../configs'\n",
    "results_path = '../results_adult_bin'\n",
    "data_path = '../data'\n",
    "folder_path = 'sampled_sex/new'\n",
    "dataset_files = [f for f in os.listdir(f'{data_path}/adult_census/{folder_path}') if 'strongly_imbalanced_g_strongly_imbalanced_c' not in f]\n",
    "print(dataset_files)\n",
    "iterations = [i for i in range(0, kfolds)]\n",
    "seeds = [42 for i in iterations]\n",
    "all_options = list(product(dataset_files, algorithms, iterations))\n",
    "\n",
    "Parallel(n_jobs=-1)(\n",
    "    delayed(experiment_adult)(d_name, a, models, idx, date, seeds[idx], kfolds=kfolds, enc_type=encoding,\n",
    "                              results_path=results_path, config_path=config_path,\n",
    "                              data_path=f'{data_path}/adult_census/{folder_path}') for\n",
    "    d_name, a, idx in all_options)"
   ],
   "id": "9509b3b15b97e8fc"
  },
  {
   "metadata": {},
   "cell_type": "code",
   "outputs": [],
   "execution_count": null,
   "source": [
    "algorithms = ['fair_rbh', 'hfos', 'fos', 'fawos', 'fair_rbu'] \n",
    "models = ['logistic_regression', 'decision_tree', 'mlp']\n",
    "kfolds = 5\n",
    "encoding = 'cont_ord_cat'\n",
    "date = '2024-06-29'\n",
    "config_path = '../configs'\n",
    "results_path = '../results_adult_bin'\n",
    "data_path = '../data'\n",
    "folder_path = 'sampled_sex/new'\n",
    "dataset_files = [f for f in os.listdir(f'{data_path}/adult_census/{folder_path}') if 'strongly_imbalanced_g_strongly_imbalanced_c' in f]\n",
    "print(dataset_files)\n",
    "iterations = [i for i in range(0, kfolds)]\n",
    "seeds = [42 for i in iterations]\n",
    "all_options = list(product(dataset_files, algorithms, iterations))\n",
    "\n",
    "Parallel(n_jobs=-1)(\n",
    "    delayed(experiment_adult)(d_name, a, models, idx, date, seeds[idx], kfolds=kfolds, enc_type=encoding,\n",
    "                              results_path=results_path, config_path=config_path,\n",
    "                              data_path=f'{data_path}/adult_census/{folder_path}') for\n",
    "    d_name, a, idx in all_options)"
   ],
   "id": "df91c51c95d30086"
  },
  {
   "metadata": {},
   "cell_type": "markdown",
   "source": "# Multi case",
   "id": "a75ff786a8916a53"
  },
  {
   "metadata": {},
   "cell_type": "code",
   "outputs": [],
   "execution_count": null,
   "source": [
    "from src.experiments_adult_multi import experiment_adult as experiment_adult_multi\n",
    "\n",
    "algorithms = ['hfos', 'fawos', 'fair_rbh', 'fair_rbu']\n",
    "models = ['logistic_regression', 'decision_tree', 'mlp']\n",
    "kfolds = 5\n",
    "encoding = 'cont_ord_cat'\n",
    "date = '2024-06-29'\n",
    "config_path = '../configs'\n",
    "results_path = '../results_adult_multi'\n",
    "data_path = '../data'\n",
    "folder_path = 'sampled_all/new'\n",
    "\n",
    "dataset_files = [f for f in os.listdir(f'{data_path}/adult_census/{folder_path}')]\n",
    "iterations = [i for i in range(0, kfolds)]\n",
    "seeds = [42 for i in iterations]\n",
    "all_options = list(product(dataset_files, algorithms, iterations))\n",
    "\n",
    "Parallel(n_jobs=-1)(\n",
    "    delayed(experiment_adult_multi)(d_name, a, models, idx, date, seeds[idx], kfolds=kfolds, enc_type=encoding,\n",
    "                              results_path=results_path, config_path=config_path,\n",
    "                              data_path=f'{data_path}/adult_census/{folder_path}') for\n",
    "    d_name, a, idx in all_options)"
   ],
   "id": "d0051a4439c24b50"
  }
 ],
 "metadata": {
  "kernelspec": {
   "display_name": "Python 3",
   "language": "python",
   "name": "python3"
  },
  "language_info": {
   "codemirror_mode": {
    "name": "ipython",
    "version": 2
   },
   "file_extension": ".py",
   "mimetype": "text/x-python",
   "name": "python",
   "nbconvert_exporter": "python",
   "pygments_lexer": "ipython2",
   "version": "2.7.6"
  }
 },
 "nbformat": 4,
 "nbformat_minor": 5
}
