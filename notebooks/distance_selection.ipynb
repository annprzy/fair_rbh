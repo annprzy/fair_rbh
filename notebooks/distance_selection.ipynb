{
 "cells": [
  {
   "metadata": {},
   "cell_type": "markdown",
   "source": "# Binary case",
   "id": "2c2b376bc2844f35"
  },
  {
   "metadata": {},
   "cell_type": "code",
   "outputs": [],
   "execution_count": null,
   "source": [
    "from src.validation import check_results\n",
    "from joblib import Parallel, delayed\n",
    "from itertools import product\n",
    "\n",
    "datasets = ['bank', 'adult', 'heart_disease', 'german']\n",
    "gammas = [0.05]\n",
    "algorithm = ['fair_rbh']\n",
    "distance_metric = {'fair_rbh': ['heom', 'hvdm']}\n",
    "distance_num = [0 , 1]\n",
    "app_ns = [0, 1, 2, 3, 4]\n",
    "approach_number = {'fair_rbh': [0, 1, 2, 3, 4]}\n",
    "iterations = [0, 1, 2, 3, 4]\n",
    "models = ['logistic_regression', 'decision_tree', 'mlp']\n",
    "all_options = list(product(datasets, algorithm, distance_num, gammas, app_ns, iterations))\n",
    "config_path = '../configs'\n",
    "results_path = '../validation'\n",
    "data_path = '../data'\n",
    "\n",
    "Parallel(n_jobs=-1)(delayed(check_results)(d_name, alg, distance_metric[alg][dist_type], gamma, approach_number[alg][app_n], models, idx, results_path=results_path, config_path=config_path, data_path=data_path) for d_name, alg, dist_type, gamma, app_n, idx in all_options)"
   ],
   "id": "4f59cd2bb3b59b03"
  },
  {
   "metadata": {},
   "cell_type": "code",
   "outputs": [],
   "execution_count": null,
   "source": [
    "from src.validation_fhf import check_results as fhf_check\n",
    "\n",
    "datasets = ['adult', 'bank', 'adult', 'heart_disease', 'german']\n",
    "distance_metric = {'fawos': ['heom', 'hvdm'], 'hfos': ['hvdm', 'heom'], 'fos': ['heom', 'hvdm']}\n",
    "algorithm_name = ['fos', 'fawos', 'hfos']\n",
    "tested_values = {'fawos': [{'safe_weight': 0, 'borderline_weight': 0.4, 'rare_weight': 0.6},], 'hfos': [5], 'fos': [5]}\n",
    "\n",
    "tested_values_num = [0]\n",
    "dist_num = [0, 1]\n",
    "iterations = [0, 1, 2, 3, 4]\n",
    "models = ['logistic_regression', 'decision_tree', 'mlp']\n",
    "all_options = list(product(datasets, dist_num, algorithm_name, tested_values_num, iterations))\n",
    "config_path = '../configs'\n",
    "results_path = '../validation'\n",
    "data_path = '../data'\n",
    "perform_fair = True\n",
    "\n",
    "Parallel(n_jobs=-1)(delayed(fhf_check)(d_name, distance_metric[app_n][dist_type], app_n, models, idx, tested_values[app_n][t], results_path=results_path,\n",
    "                                           config_path=config_path, data_path=data_path, perform_fair=perform_fair) for d_name, dist_type, app_n, t, idx in all_options)"
   ],
   "id": "db396f4ff7e3b3ba"
  },
  {
   "metadata": {},
   "cell_type": "markdown",
   "source": "# Multi case",
   "id": "e60442fc3cc65b2a"
  },
  {
   "metadata": {},
   "cell_type": "code",
   "outputs": [],
   "execution_count": null,
   "source": [
    "from src.validation_multi import check_results as multi_check_results\n",
    "\n",
    "datasets = ['german', 'adult', 'bank']\n",
    "gammas = [0.05]\n",
    "algorithm = ['fair_rbh']\n",
    "distance_metric = {'fair_rbh': ['heom', 'hvdm']}\n",
    "distance_num = [0, 1]\n",
    "approach_number = {'fair_rbh': [0, 1, 2, 3, 4]}\n",
    "iterations = [0, 1, 2, 3, 4]\n",
    "app_ns = [0, 1, 2, 3, 4]\n",
    "models = ['logistic_regression', 'decision_tree', 'mlp']\n",
    "all_options = list(product(datasets, algorithm, distance_num, gammas, app_ns, iterations))\n",
    "config_path = '../configs'\n",
    "results_path = '../validation_multi'\n",
    "data_path = '../data'\n",
    "\n",
    "Parallel(n_jobs=-1)(delayed(multi_check_results)(d_name, alg, distance_metric[alg][dist_type], gamma, approach_number[alg][app_n], models, idx, results_path=results_path,\n",
    "                                           config_path=config_path, data_path=data_path) for\n",
    "                    d_name, alg, dist_type, gamma, app_n, idx in all_options)"
   ],
   "id": "79fbbf808aacd0fb"
  },
  {
   "metadata": {},
   "cell_type": "code",
   "outputs": [],
   "execution_count": null,
   "source": [
    "from src.validation_fhf_multi import check_results as multi_fh_check_results\n",
    "\n",
    "datasets = ['adult', 'german', 'bank']\n",
    "distance_metric = {'fawos': ['heom', 'hvdm'], 'hfos': ['hvdm', 'heom']}\n",
    "algorithm_name = ['fawos', 'hfos']\n",
    "tested_values = {\n",
    "    'fawos': [{'safe_weight': 0, 'borderline_weight': 0.4, 'rare_weight': 0.6}],\n",
    "    'hfos': [5]\n",
    "}\n",
    "tested_values_num = [0]\n",
    "distance_metric_num = [0, 1]\n",
    "iterations = [0, 1, 2, 3, 4]\n",
    "models = ['logistic_regression', 'decision_tree', 'mlp']\n",
    "all_options = list(product(datasets, distance_metric_num, algorithm_name, tested_values_num, iterations))\n",
    "config_path = '../configs'\n",
    "results_path = '../validation_multi'\n",
    "data_path = '../data'\n",
    "perform_fair = True\n",
    "\n",
    "Parallel(n_jobs=-1)(\n",
    "    delayed(multi_fh_check_results)(d_name, distance_metric[app_n][dist_type], app_n, models, idx, tested_values[app_n][t],\n",
    "                           results_path=results_path,\n",
    "                           config_path=config_path, data_path=data_path, perform_fair=perform_fair)\n",
    "    for\n",
    "    d_name, dist_type, app_n, t, idx in all_options)"
   ],
   "id": "8dee535e13d1b726"
  }
 ],
 "metadata": {
  "kernelspec": {
   "display_name": "Python 3",
   "language": "python",
   "name": "python3"
  },
  "language_info": {
   "codemirror_mode": {
    "name": "ipython",
    "version": 2
   },
   "file_extension": ".py",
   "mimetype": "text/x-python",
   "name": "python",
   "nbconvert_exporter": "python",
   "pygments_lexer": "ipython2",
   "version": "2.7.6"
  }
 },
 "nbformat": 4,
 "nbformat_minor": 5
}
