{
 "cells": [
  {
   "cell_type": "code",
   "id": "initial_id",
   "metadata": {
    "collapsed": true
   },
   "source": [
    "from src.datasets.adult_dataset import AdultDataset\n",
    "from src.datasets.heart_dataset import HeartDataset\n",
    "from src.datasets.adult_sampled_dataset import AdultSampledDataset\n",
    "from src.datasets.bank_dataset import BankDataset\n",
    "from src.datasets.german_dataset import GermanDataset\n",
    "\n",
    "data_path = '../data'\n",
    "random_state = 42\n",
    "\n",
    "german = GermanDataset(f'{data_path}/german_credit/german.data', binary=False, group_type='',\n",
    "                     random_state=random_state)\n",
    "bank = BankDataset(f'{data_path}/bank_marketing/bank.csv', binary=False, group_type='',\n",
    "                   random_state=random_state)\n",
    "adult = AdultDataset(f'{data_path}/adult_census/adult.data',\n",
    "                    binary=False, group_type='', random_state=random_state)\n",
    "adult_sample = AdultSampledDataset(f'{data_path}/adult_census/sampled_sex/natural.csv',\n",
    "                                    binary=False, group_type='', random_state=random_state)\n",
    "heart = HeartDataset(f'{data_path}/heart_disease/processed.cleveland.data', binary=False, group_type='',\n",
    "                    random_state=random_state)\n",
    "\n",
    "datasets = {'german': german, 'bank': bank, 'adult': adult, 'adult_sampled': adult_sample, 'heart': heart}\n",
    "\n",
    "for key in datasets.keys():\n",
    "    dataset = datasets[key]\n",
    "    print(key)\n",
    "    print('Features shape (with target): ', dataset.data.shape)\n",
    "    print('Minority_class: ', dataset.minority)\n",
    "    print(dataset.mappings)\n",
    "    print('Majority_class: ', dataset.majority)\n",
    "    print('Priv: ', dataset.privileged_class)\n",
    "    print('Priv group: ', dataset.privileged_groups)\n",
    "    print(dataset.get_stats_data(dataset.data))"
   ],
   "outputs": [],
   "execution_count": null
  },
  {
   "metadata": {},
   "cell_type": "code",
   "source": [
    "import os\n",
    "from src.datasets.adult_dataset import AdultDataset\n",
    "from src.datasets.heart_dataset import HeartDataset\n",
    "from src.datasets.adult_sampled_dataset import AdultSampledDataset\n",
    "from src.datasets.bank_dataset import BankDataset\n",
    "from src.datasets.german_dataset import GermanDataset\n",
    "\n",
    "data_path = '../data'\n",
    "random_state = 42\n",
    "\n",
    "\n",
    "datasets = [f for f in os.listdir(f'{data_path}/adult_census/sampled_all/new')]\n",
    "\n",
    "for key in datasets:\n",
    "    #dataset = datasets[key]\n",
    "    \n",
    "    dataset = AdultSampledDataset(f'{data_path}/adult_census/sampled_all/new/{key}',\n",
    "                                    binary=False, group_type='', random_state=random_state)\n",
    "    print(key)\n",
    "    print('Features shape (with target): ', dataset.data.shape)\n",
    "    print('Minority_class: ', dataset.minority)\n",
    "    print(dataset.mappings)\n",
    "    print('Majority_class: ', dataset.majority)\n",
    "    print('Priv: ', dataset.privileged_class)\n",
    "    print('Priv group: ', dataset.privileged_groups)\n",
    "    print(dataset.get_stats_data(dataset.data))"
   ],
   "id": "5bac6a91b534da73",
   "outputs": [],
   "execution_count": null
  },
  {
   "metadata": {},
   "cell_type": "code",
   "source": "",
   "id": "91a04dfa06d25d8b",
   "outputs": [],
   "execution_count": null
  }
 ],
 "metadata": {
  "kernelspec": {
   "display_name": "Python 3",
   "language": "python",
   "name": "python3"
  },
  "language_info": {
   "codemirror_mode": {
    "name": "ipython",
    "version": 2
   },
   "file_extension": ".py",
   "mimetype": "text/x-python",
   "name": "python",
   "nbconvert_exporter": "python",
   "pygments_lexer": "ipython2",
   "version": "2.7.6"
  }
 },
 "nbformat": 4,
 "nbformat_minor": 5
}
