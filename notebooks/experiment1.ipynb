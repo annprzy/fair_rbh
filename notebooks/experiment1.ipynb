{
 "cells": [
  {
   "metadata": {},
   "cell_type": "markdown",
   "source": "# Binary case",
   "id": "58c9c216759ea82d"
  },
  {
   "metadata": {},
   "cell_type": "markdown",
   "source": "## Hyperparameter tuning",
   "id": "dc9e75ebfebe0e75"
  },
  {
   "metadata": {},
   "cell_type": "code",
   "source": [
    "from src.validation import check_results\n",
    "from joblib import Parallel, delayed\n",
    "from itertools import product\n",
    "\n",
    "datasets = ['bank', 'adult', 'heart_disease', 'german']\n",
    "gammas = [0.03, 0.07, 0.1]\n",
    "algorithm = ['fair_rbh']\n",
    "distance_metric = {'fair_rbh': ['heom']}\n",
    "distance_num = [0]\n",
    "app_ns = [4]\n",
    "approach_number = {'fair_rbh': [0, 1, 2, 3, 4]}\n",
    "iterations = [0, 1, 2, 3, 4]\n",
    "models = ['logistic_regression', 'decision_tree', 'mlp']\n",
    "all_options = list(product(datasets, algorithm, distance_num, gammas, app_ns, iterations))\n",
    "config_path = '../configs'\n",
    "results_path = '../validation'\n",
    "data_path = '../data'\n",
    "\n",
    "Parallel(n_jobs=-1)(delayed(check_results)(d_name, alg, distance_metric[alg][dist_type], gamma, approach_number[alg][app_n], models, idx, results_path=results_path, config_path=config_path, data_path=data_path) for d_name, alg, dist_type, gamma, app_n, idx in all_options)"
   ],
   "id": "a2790d095a69113d",
   "outputs": [],
   "execution_count": null
  },
  {
   "metadata": {},
   "cell_type": "code",
   "source": [
    "from src.validation_fhf import check_results as fhf_check\n",
    "\n",
    "datasets = ['adult', 'bank', 'adult', 'heart_disease', 'german']\n",
    "distance_metric = {'fawos': ['heom'], 'hfos': ['hvdm'], 'fos': ['heom']}\n",
    "algorithm_name = ['fos', 'fawos', 'hfos']\n",
    "tested_values = {'fawos': [  {'safe_weight': 0, 'borderline_weight': 0.5, 'rare_weight': 0.5},\n",
    "            {'safe_weight': 0, 'borderline_weight': 0.6, 'rare_weight': 0.4},\n",
    "            {'safe_weight': 0.33, 'borderline_weight': 0.33, 'rare_weight': 0.33},], \n",
    "             'hfos': [3, 7, 11], \n",
    "             'fos': [3, 7, 11]}\n",
    "\n",
    "tested_values_num = [0, 1, 2]\n",
    "dist_num = [0]\n",
    "iterations = [0, 1, 2, 3, 4]\n",
    "models = ['logistic_regression', 'decision_tree', 'mlp']\n",
    "all_options = list(product(datasets, dist_num, algorithm_name, tested_values_num, iterations))\n",
    "config_path = '../configs'\n",
    "results_path = '../validation'\n",
    "data_path = '../data'\n",
    "perform_fair = True\n",
    "\n",
    "Parallel(n_jobs=-1)(delayed(fhf_check)(d_name, distance_metric[app_n][dist_type], app_n, models, idx, tested_values[app_n][t], results_path=results_path,\n",
    "                                           config_path=config_path, data_path=data_path, perform_fair=perform_fair) for d_name, dist_type, app_n, t, idx in all_options)"
   ],
   "id": "1bda4d9213ccaf1",
   "outputs": [],
   "execution_count": null
  },
  {
   "metadata": {},
   "cell_type": "markdown",
   "source": "## Experiment",
   "id": "b57f03872f516625"
  },
  {
   "metadata": {},
   "cell_type": "code",
   "source": [
    "from src.experiments import experiment\n",
    "\n",
    "datasets = ['german', 'adult']\n",
    "algorithms = ['fawos', 'fos', 'hfos', 'fair_rbh', 'fair_rbu']\n",
    "models = ['logistic_regression', 'decision_tree', 'mlp']\n",
    "kfolds = 10\n",
    "encoding = 'cont_ord_cat'\n",
    "date = '2024-08-24'\n",
    "config_path = '../configs'\n",
    "results_path = '../results'\n",
    "data_path = '../data'\n",
    "iterations = [i for i in range(0, 10)]\n",
    "seeds = [42 for i in iterations]\n",
    "all_options = list(product(datasets, algorithms, iterations))\n",
    "\n",
    "Parallel(n_jobs=-1)(delayed(experiment)(d_name, a, models, idx, date, seeds[idx], kfolds=kfolds, enc_type=encoding,\n",
    "                                        results_path=results_path, config_path=config_path, data_path=data_path) for\n",
    "                                        d_name, a, idx in all_options)"
   ],
   "id": "d104d4173170fcbc",
   "outputs": [],
   "execution_count": null
  },
  {
   "metadata": {},
   "cell_type": "code",
   "source": [
    "from src.experiments import experiment\n",
    "\n",
    "datasets = ['bank', 'heart_disease']\n",
    "algorithms = ['fawos', 'fos', 'hfos', 'fair_rbh', 'fair_rbu']\n",
    "models = ['logistic_regression', 'decision_tree', 'mlp']\n",
    "kfolds = 5\n",
    "encoding = 'cont_ord_cat'\n",
    "date = '2024-08-24'\n",
    "config_path = '../configs'\n",
    "results_path = '../results'\n",
    "data_path = '../data'\n",
    "iterations = [i for i in range(0, 5)]\n",
    "seeds = [42 for i in iterations]\n",
    "all_options = list(product(datasets, algorithms, iterations))\n",
    "\n",
    "Parallel(n_jobs=-1)(delayed(experiment)(d_name, a, models, idx, date, seeds[idx], kfolds=kfolds, enc_type=encoding,\n",
    "                                        results_path=results_path, config_path=config_path, data_path=data_path) for\n",
    "                                        d_name, a, idx in all_options)"
   ],
   "id": "edff11aadcd93fa2",
   "outputs": [],
   "execution_count": null
  },
  {
   "metadata": {},
   "cell_type": "markdown",
   "source": "# Multi case",
   "id": "e6322be390acef0b"
  },
  {
   "metadata": {},
   "cell_type": "markdown",
   "source": "## Hyperparameter tuning",
   "id": "7850523e92c351da"
  },
  {
   "metadata": {},
   "cell_type": "code",
   "source": [
    "from src.validation_multi import check_results as multi_check_results\n",
    "\n",
    "datasets = ['german', 'adult', 'bank']\n",
    "gammas = [0.03, 0.07, 0.1]\n",
    "algorithm = ['fair_rbh']\n",
    "distance_metric = {'fair_rbh': ['heom']}\n",
    "distance_num = [0]\n",
    "approach_number = {'fair_rbh': [0, 1, 2, 3, 4]}\n",
    "iterations = [0, 1, 2, 3, 4]\n",
    "app_ns = [4]\n",
    "models = ['logistic_regression', 'decision_tree', 'mlp']\n",
    "all_options = list(product(datasets, algorithm, distance_num, gammas, app_ns, iterations))\n",
    "config_path = '../configs'\n",
    "results_path = '../validation_multi'\n",
    "data_path = '../data'\n",
    "\n",
    "Parallel(n_jobs=-1)(delayed(multi_check_results)(d_name, alg, distance_metric[alg][dist_type], gamma, approach_number[alg][app_n], models, idx, results_path=results_path,\n",
    "                                           config_path=config_path, data_path=data_path) for\n",
    "                    d_name, alg, dist_type, gamma, app_n, idx in all_options)"
   ],
   "id": "4831be8c51cca29",
   "outputs": [],
   "execution_count": null
  },
  {
   "metadata": {},
   "cell_type": "code",
   "source": [
    "from src.validation_fhf_multi import check_results as multi_fh_check_results\n",
    "\n",
    "datasets = ['adult', 'german', 'bank']\n",
    "distance_metric = {'fawos': ['heom'], 'hfos': ['hvdm']}\n",
    "algorithm_name = ['fawos', 'hfos']\n",
    "tested_values = {'fawos': [  {'safe_weight': 0, 'borderline_weight': 0.5, 'rare_weight': 0.5},\n",
    "            {'safe_weight': 0, 'borderline_weight': 0.6, 'rare_weight': 0.4},\n",
    "            {'safe_weight': 0.33, 'borderline_weight': 0.33, 'rare_weight': 0.33},], \n",
    "             'hfos': [3, 7, 11]}\n",
    "tested_values_num = [0, 1, 2]\n",
    "distance_metric_num = [0]\n",
    "iterations = [0, 1, 2, 3, 4]\n",
    "models = ['logistic_regression', 'decision_tree', 'mlp']\n",
    "all_options = list(product(datasets, distance_metric_num, algorithm_name, tested_values_num, iterations))\n",
    "config_path = '../configs'\n",
    "results_path = '../validation_multi'\n",
    "data_path = '../data'\n",
    "perform_fair = True\n",
    "\n",
    "Parallel(n_jobs=-1)(\n",
    "    delayed(multi_fh_check_results)(d_name, distance_metric[app_n][dist_type], app_n, models, idx, tested_values[app_n][t],\n",
    "                           results_path=results_path,\n",
    "                           config_path=config_path, data_path=data_path, perform_fair=perform_fair)\n",
    "    for\n",
    "    d_name, dist_type, app_n, t, idx in all_options)"
   ],
   "id": "ac2ecdf17cb9a05c",
   "outputs": [],
   "execution_count": null
  },
  {
   "metadata": {},
   "cell_type": "markdown",
   "source": "## Experiment",
   "id": "2c258a8fd37c1b24"
  },
  {
   "metadata": {},
   "cell_type": "code",
   "source": [
    "from src.experiments_multi import experiment as experiment_multi\n",
    "\n",
    "datasets = ['german', 'adult', 'bank']  # , 'adult', 'bank']\n",
    "algorithms = ['hfos', 'fawos', 'fair_rbh', 'fair_rbu']\n",
    "models = ['logistic_regression', 'decision_tree', 'mlp']\n",
    "kfolds = 5\n",
    "encoding = 'cont_ord_cat'\n",
    "date = '2024-06-29'\n",
    "config_path = '../configs'\n",
    "results_path = '../results_multi'\n",
    "data_path = '../data'\n",
    "iterations = [i for i in range(0, 5)]\n",
    "seeds = [42 for i in iterations]\n",
    "all_options = list(product(datasets, algorithms, iterations))\n",
    "\n",
    "Parallel(n_jobs=-1)(delayed(experiment_multi)(d_name, a, models, idx, date, seeds[idx], kfolds=kfolds, enc_type=encoding,\n",
    "                                        results_path=results_path, config_path=config_path, data_path=data_path) for\n",
    "                    d_name, a, idx in all_options)"
   ],
   "id": "4fd4ab1d137c3b8f",
   "outputs": [],
   "execution_count": null
  }
 ],
 "metadata": {
  "kernelspec": {
   "display_name": "Python 3",
   "language": "python",
   "name": "python3"
  },
  "language_info": {
   "codemirror_mode": {
    "name": "ipython",
    "version": 2
   },
   "file_extension": ".py",
   "mimetype": "text/x-python",
   "name": "python",
   "nbconvert_exporter": "python",
   "pygments_lexer": "ipython2",
   "version": "2.7.6"
  }
 },
 "nbformat": 4,
 "nbformat_minor": 5
}
