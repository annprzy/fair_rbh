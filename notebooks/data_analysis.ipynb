{
 "cells": [
  {
   "cell_type": "code",
   "id": "initial_id",
   "metadata": {
    "collapsed": true,
    "ExecuteTime": {
     "end_time": "2024-05-17T15:35:44.401461Z",
     "start_time": "2024-05-17T15:35:43.638787Z"
    }
   },
   "source": [
    "from src.experiments import init_dataset\n",
    "random_state = 42\n",
    "\n",
    "german = init_dataset('german', 42)\n",
    "adult = init_dataset('adult', 42)\n",
    "bank = init_dataset('bank', 42)"
   ],
   "execution_count": 1,
   "outputs": []
  },
  {
   "metadata": {
    "ExecuteTime": {
     "end_time": "2024-05-17T15:35:44.405361Z",
     "start_time": "2024-05-17T15:35:44.402825Z"
    }
   },
   "cell_type": "code",
   "source": [
    "def get_features_groups_target(df, dataset):\n",
    "    features = df[[c for c in df.columns if c not in [*dataset.sensitive, dataset.target]]]\n",
    "    sensitive = df[dataset.sensitive]\n",
    "    target = df[[dataset.target]]\n",
    "    return features, sensitive, target"
   ],
   "id": "98b48f58958d6709",
   "execution_count": 2,
   "outputs": []
  },
  {
   "metadata": {
    "ExecuteTime": {
     "end_time": "2024-05-17T15:35:44.501184Z",
     "start_time": "2024-05-17T15:35:44.406656Z"
    }
   },
   "cell_type": "code",
   "source": [
    "german_df = german.perform_encoding('cont_ord_cat', german.data, german.data)\n",
    "adult_df = adult.perform_encoding('cont_ord_cat', adult.data, adult.data)\n",
    "bank_df = bank.perform_encoding('cont_ord_cat', bank.data, bank.data)\n",
    "\n",
    "german_features, german_sensitive, german_target = get_features_groups_target(german_df, german)\n",
    "adult_features, adult_sensitive, adult_target = get_features_groups_target(adult_df, adult)\n",
    "bank_features, bank_sensitive, bank_target = get_features_groups_target(bank_df, bank)"
   ],
   "id": "aad10774193767d1",
   "execution_count": 3,
   "outputs": []
  },
  {
   "metadata": {
    "ExecuteTime": {
     "end_time": "2024-05-17T15:35:44.505373Z",
     "start_time": "2024-05-17T15:35:44.502156Z"
    }
   },
   "cell_type": "code",
   "source": [
    "import pandas as pd\n",
    "import seaborn as sns\n",
    "from sklearn.decomposition import PCA\n",
    "\n",
    "\n",
    "def pca_visualization(features, sensitive, target):\n",
    "    pca = PCA(n_components=2)\n",
    "    pca.fit(features)\n",
    "    print(pca.explained_variance_ratio_)\n",
    "    pca_features = pca.transform(features)\n",
    "    sensitive_groups = sensitive.astype('str').agg('_'.join, axis=1)\n",
    "    group_class = [f'{t}_{s}' for t, s in zip(target, sensitive_groups)]    \n",
    "    PC1 = pca_features[:,0]\n",
    "    PC2 = pca_features[:,1]\n",
    "    df = pd.DataFrame({'PC1': PC1, 'PC2': PC2, 'target': target, 'sensitive_groups': sensitive_groups, 'group_class': group_class})\n",
    "    sns.scatterplot(df, x='PC1', y='PC2', hue='group_class')"
   ],
   "id": "5b4665a7db3b352d",
   "execution_count": 4,
   "outputs": []
  },
  {
   "metadata": {
    "ExecuteTime": {
     "end_time": "2024-05-17T15:35:44.925021Z",
     "start_time": "2024-05-17T15:35:44.639101Z"
    }
   },
   "cell_type": "code",
   "source": "pca_visualization(german_features, german_sensitive, german_target[german.target])",
   "id": "aec51661d0fbd3a1",
   "execution_count": 5,
   "outputs": []
  },
  {
   "metadata": {
    "ExecuteTime": {
     "end_time": "2024-04-14T12:12:12.740308Z",
     "start_time": "2024-04-14T12:12:12.738101Z"
    }
   },
   "cell_type": "code",
   "source": [
    "# german_df = german.data\n",
    "# adult_df = adult.data\n",
    "# bank_df = bank.data\n",
    "# \n",
    "# german_features, german_sensitive, german_target = get_features_groups_target(german_df, german)\n",
    "# adult_features, adult_sensitive, adult_target = get_features_groups_target(adult_df, adult)\n",
    "# bank_features, bank_sensitive, bank_target = get_features_groups_target(bank_df, bank)"
   ],
   "id": "a789aee2be04218f",
   "execution_count": 6,
   "outputs": []
  },
  {
   "metadata": {
    "ExecuteTime": {
     "end_time": "2024-04-14T12:20:50.924183Z",
     "start_time": "2024-04-14T12:20:50.921154Z"
    }
   },
   "cell_type": "code",
   "source": [
    "import numpy as np\n",
    "from sklearn.cluster import DBSCAN, KMeans\n",
    "from distython import HEOM\n",
    "\n",
    "def clustering(dataset, df):\n",
    "    cl = KMeans(n_clusters=2, random_state=42, n_init=10)\n",
    "    cl.fit(df)\n",
    "    return cl.labels_"
   ],
   "id": "b93179a8803a9b6b",
   "execution_count": 26,
   "outputs": []
  },
  {
   "metadata": {
    "ExecuteTime": {
     "end_time": "2024-04-14T12:20:51.379108Z",
     "start_time": "2024-04-14T12:20:51.375351Z"
    }
   },
   "cell_type": "code",
   "source": [
    "def PCA2(features, sensitive, target, cluster):\n",
    "    pca = PCA(n_components=2)\n",
    "    pca.fit(features)\n",
    "    print(pca.explained_variance_ratio_)\n",
    "    pca_features = pca.transform(features)\n",
    "    sensitive_groups = sensitive.astype('str').agg('_'.join, axis=1)\n",
    "    group_class = [f'{t}_{s}' for t, s in zip(target, sensitive_groups)] \n",
    "    PC1 = pca_features[:,0]\n",
    "    PC2 = pca_features[:,1]\n",
    "    df = pd.DataFrame({'PC1': PC1, 'PC2': PC2, 'target': target, 'sensitive_groups': sensitive_groups, 'group_class': group_class, 'clustering': cluster.astype('str')})\n",
    "    sns.scatterplot(df, x='PC1', y='PC2', hue='clustering')"
   ],
   "id": "386a87dde2c71ac6",
   "execution_count": 27,
   "outputs": []
  },
  {
   "metadata": {
    "ExecuteTime": {
     "end_time": "2024-04-14T12:20:52.803498Z",
     "start_time": "2024-04-14T12:20:51.790562Z"
    }
   },
   "cell_type": "code",
   "source": [
    "german_clustering = clustering(german, german_features)\n",
    "print(len(german_clustering), len(german_df))\n",
    "\n",
    "PCA2(german_features, german_sensitive, german_target[german.target], german_clustering)"
   ],
   "id": "fafd508c1fc45758",
   "execution_count": 28,
   "outputs": []
  },
  {
   "metadata": {
    "ExecuteTime": {
     "end_time": "2024-04-14T12:20:52.807191Z",
     "start_time": "2024-04-14T12:20:52.805035Z"
    }
   },
   "cell_type": "code",
   "source": "",
   "id": "5ba1a6b97239c38d",
   "execution_count": 28,
   "outputs": []
  },
  {
   "metadata": {},
   "cell_type": "code",
   "execution_count": null,
   "source": "",
   "id": "2bfbf5988e3de646",
   "outputs": []
  }
 ],
 "metadata": {
  "kernelspec": {
   "display_name": "Python 3",
   "language": "python",
   "name": "python3"
  },
  "language_info": {
   "codemirror_mode": {
    "name": "ipython",
    "version": 2
   },
   "file_extension": ".py",
   "mimetype": "text/x-python",
   "name": "python",
   "nbconvert_exporter": "python",
   "pygments_lexer": "ipython2",
   "version": "2.7.6"
  }
 },
 "nbformat": 4,
 "nbformat_minor": 5
}
