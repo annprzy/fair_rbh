{
 "cells": [
  {
   "cell_type": "code",
   "source": [
    "def calculate_mean_std(df_names, dfs):\n",
    "    perf_train, perf_fair = [], []\n",
    "\n",
    "    for df_name, df in zip(df_names, dfs):\n",
    "        df_train = df[df['data'] == 'train_cont_ord_cat'].drop(columns=['data'])\n",
    "        df_fair = df[df['data'] == 'fair_cont_ord_cat'].drop(columns=['data'])\n",
    "        \n",
    "        df_train_mean = df_train.mean()\n",
    "        df_train_std = df_train.std()\n",
    "        #df_train_median = df_train.median()\n",
    "        df_train_mean['dataset'] = df_name\n",
    "        df_train_std['dataset'] = df_name\n",
    "        #df_train_median['dataset'] = df_name\n",
    "        df_train_mean['type'] = 'mean'\n",
    "        #df_train_median['type'] = 'median'\n",
    "        df_train_std['type'] = 'std'\n",
    "        perf_train.append(df_train_mean.to_frame().T)\n",
    "        #perf_train.append(df_train_median.to_frame().T)\n",
    "        perf_train.append(df_train_std.to_frame().T)\n",
    "        \n",
    "        df_fair_mean = df_fair.mean()\n",
    "        #df_fair_median = df_fair.median()\n",
    "        df_fair_std = df_fair.std()\n",
    "        df_fair_mean['dataset'] = df_name\n",
    "        #df_fair_median['dataset'] = df_name\n",
    "        df_fair_std['dataset'] = df_name\n",
    "        df_fair_mean['type'] = 'mean'\n",
    "        #df_fair_median['type'] = 'median'\n",
    "        df_fair_std['type'] = 'std'\n",
    "        perf_fair.append(df_fair_mean.to_frame().T)\n",
    "        #perf_fair.append(df_fair_median.to_frame().T)\n",
    "        perf_fair.append(df_fair_std.to_frame().T)\n",
    "    \n",
    "    perf_train = pd.concat(perf_train).reset_index(drop=True)\n",
    "    perf_fair = pd.concat(perf_fair).reset_index(drop=True)\n",
    "    return perf_train, perf_fair"
   ],
   "metadata": {
    "collapsed": false,
    "ExecuteTime": {
     "end_time": "2024-06-10T11:42:38.279783Z",
     "start_time": "2024-06-10T11:42:38.274419Z"
    }
   },
   "id": "f3bc2e6728c9b446",
   "outputs": [],
   "execution_count": 3
  },
  {
   "metadata": {
    "ExecuteTime": {
     "end_time": "2024-06-10T11:42:38.842945Z",
     "start_time": "2024-06-10T11:42:38.839542Z"
    }
   },
   "cell_type": "code",
   "source": [
    "def aggregate_runs(dfs):\n",
    "    df = pd.concat(dfs).reset_index(drop=True)\n",
    "    df.drop(columns=['iteration'], inplace=True)\n",
    "    df_num_cols = [c for c in df.columns if c not in ['classifier', 'algorithm']]\n",
    "    df.loc[:, df_num_cols] = df.loc[:, df_num_cols].abs()\n",
    "    df = df.groupby(['classifier', 'algorithm']).agg(['mean', 'std'])\n",
    "    return df"
   ],
   "id": "9c3cdc3461ca2dd4",
   "outputs": [],
   "execution_count": 4
  },
  {
   "metadata": {
    "ExecuteTime": {
     "end_time": "2024-06-10T11:42:39.270930Z",
     "start_time": "2024-06-10T11:42:39.267923Z"
    }
   },
   "cell_type": "code",
   "source": [
    "def print_to_latex(dfs):\n",
    "    df = pd.concat(dfs).reset_index(drop=True)\n",
    "    df.drop(columns=['iteration'], inplace=True)\n",
    "    df_num_cols = [c for c in df.columns if c not in ['classifier', 'algorithm']]\n",
    "    #df.loc[:, df_num_cols] = df.loc[:, df_num_cols].abs()\n",
    "    df = df.groupby(['classifier', 'algorithm']).agg(['mean', 'std'])\n",
    "    print(df.to_latex(index=True))"
   ],
   "id": "2976461425016f16",
   "outputs": [],
   "execution_count": 5
  },
  {
   "metadata": {
    "ExecuteTime": {
     "end_time": "2024-06-10T11:42:39.887602Z",
     "start_time": "2024-06-10T11:42:39.883626Z"
    }
   },
   "cell_type": "code",
   "source": [
    "from matplotlib import pyplot as plt\n",
    "import seaborn as sns\n",
    "\n",
    "def aggregate_runs_no_mean(dfs, y):\n",
    "    df = pd.concat(dfs).reset_index(drop=True)\n",
    "    df_num_cols = [c for c in df.columns if c not in ['classifier', 'algorithm']]\n",
    "    df.loc[:, df_num_cols] = df.loc[:, df_num_cols].abs()\n",
    "    g = sns.FacetGrid(df, col=\"classifier\")\n",
    "    g.map_dataframe(sns.lineplot, x='iteration', y=y, hue='algorithm', errorbar=None)\n",
    "    g.add_legend()\n",
    "    plt.show()"
   ],
   "id": "f07ea57737d5e4ab",
   "outputs": [],
   "execution_count": 6
  },
  {
   "metadata": {},
   "cell_type": "markdown",
   "source": "# Cont ord cat",
   "id": "e72df4c088362dfa"
  },
  {
   "metadata": {
    "ExecuteTime": {
     "end_time": "2024-06-10T23:14:10.345535Z",
     "start_time": "2024-06-10T23:14:09.981175Z"
    }
   },
   "cell_type": "code",
   "source": [
    "import os\n",
    "import pandas as pd\n",
    "\n",
    "dfs_fairness = []\n",
    "dfs_performance = []\n",
    "dataset_names = ['heart_disease']\n",
    "classifier_names = ['decision_tree', 'mlp', 'logistic_regression']\n",
    "algorithm_names = ['fos', 'hfos', 'fawos', 'fair_rbo',]# 'fawos_hybrid']\n",
    "folder_names = ['2024-06-07', '2024-06-07', '2024-06-07', '2024-06-07']\n",
    "\n",
    "for dataset_name in dataset_names:\n",
    "    df_data_fair = []\n",
    "    df_data_perf = []\n",
    "    for classifier_name in classifier_names:\n",
    "        for folder_name, algorithm_name in zip(folder_names, algorithm_names):\n",
    "            for i in range(0, 10):\n",
    "                if os.path.exists(os.path.join('../results', f'{algorithm_name}_{dataset_name}_{classifier_name}', folder_name, f'fairness_{i}.csv')):\n",
    "                    fair_path = os.path.join('../results', f'{algorithm_name}_{dataset_name}_{classifier_name}', folder_name, f'fairness_{i}.csv')\n",
    "                    perf_path = os.path.join('../results', f'{algorithm_name}_{dataset_name}_{classifier_name}', folder_name, f'performance_{i}.csv')\n",
    "                    df_fair = pd.read_csv(fair_path)\n",
    "                    df_performance = pd.read_csv(perf_path)\n",
    "                    df_fair['classifier'] = [classifier_name] * len(df_fair)\n",
    "                    df_fair['algorithm'] = [algorithm_name if 'fair' in x else '-' for x in df_fair['data']]\n",
    "                    df_fair['iteration'] = [i] * len(df_fair)\n",
    "                    # df_fair.drop(columns=['data', 'average_odds', 'average_absolute_odds'], inplace=True)\n",
    "                    df_fair.drop(columns=['data'], inplace=True)\n",
    "                    df_performance['classifier'] = [classifier_name] * len(df_performance)\n",
    "                    df_performance['algorithm'] = [algorithm_name if 'fair' in x else '-' for x in df_performance['data']]\n",
    "                    df_performance['iteration'] = [i] * len(df_performance)\n",
    "                    df_performance.drop(columns=['data'], inplace=True)\n",
    "                    df_data_fair.append(df_fair)\n",
    "                    df_data_perf.append(df_performance)\n",
    "    dfs_fairness.append(df_data_fair)\n",
    "    dfs_performance.append(df_data_perf)\n",
    "                "
   ],
   "id": "75cc1e7e10ac0612",
   "outputs": [],
   "execution_count": 82
  },
  {
   "metadata": {
    "ExecuteTime": {
     "end_time": "2024-06-10T23:14:10.928006Z",
     "start_time": "2024-06-10T23:14:10.900558Z"
    }
   },
   "cell_type": "code",
   "source": [
    "for dataset_name, dfs in zip(dataset_names, dfs_fairness):\n",
    "    df = aggregate_runs(dfs)\n",
    "    print(dataset_name)\n",
    "    display(df)\n",
    "    print('----------------------------------------------------------------')"
   ],
   "id": "44921e2a08ee188d",
   "outputs": [
    {
     "name": "stdout",
     "output_type": "stream",
     "text": [
      "heart_disease\n"
     ]
    },
    {
     "data": {
      "text/plain": [
       "                              statistical_parity            accuracy  \\\n",
       "                                            mean       std      mean   \n",
       "classifier          algorithm                                          \n",
       "decision_tree       -                   0.320317  0.140104  0.152063   \n",
       "                    fair_rbo            0.141825  0.135932  0.126587   \n",
       "                    fawos               0.203413  0.117275  0.122143   \n",
       "                    fos                 0.302619  0.178465  0.156587   \n",
       "                    hfos                0.158968  0.144312  0.138810   \n",
       "logistic_regression -                   0.361190  0.138089  0.106587   \n",
       "                    fair_rbo            0.223968  0.136047  0.079365   \n",
       "                    fawos               0.236429  0.162806  0.113571   \n",
       "                    fos                 0.353016  0.140535  0.121587   \n",
       "                    hfos                0.248730  0.148477  0.093651   \n",
       "mlp                 -                   0.184444  0.182727  0.121587   \n",
       "                    fair_rbo            0.184841  0.131357  0.130714   \n",
       "                    fawos               0.141349  0.104746  0.201349   \n",
       "                    fos                 0.246349  0.142144  0.121111   \n",
       "                    hfos                0.188571  0.168136  0.142063   \n",
       "\n",
       "                                        equal_opportunity            \\\n",
       "                                    std              mean       std   \n",
       "classifier          algorithm                                         \n",
       "decision_tree       -          0.105089          0.247222  0.098343   \n",
       "                    fair_rbo   0.073125          0.158135  0.116056   \n",
       "                    fawos      0.078074          0.104762  0.110022   \n",
       "                    fos        0.118737          0.239087  0.156988   \n",
       "                    hfos       0.081782          0.185714  0.128093   \n",
       "logistic_regression -          0.097622          0.217063  0.104056   \n",
       "                    fair_rbo   0.104975          0.125595  0.117263   \n",
       "                    fawos      0.096681          0.092063  0.115872   \n",
       "                    fos        0.098555          0.229563  0.160266   \n",
       "                    hfos       0.098581          0.150595  0.067112   \n",
       "mlp                 -          0.115318          0.160119  0.123182   \n",
       "                    fair_rbo   0.106206          0.208929  0.084138   \n",
       "                    fawos      0.151097          0.017460  0.038483   \n",
       "                    fos        0.123750          0.206944  0.159506   \n",
       "                    hfos       0.101154          0.258730  0.097000   \n",
       "\n",
       "                              average_odds           average_absolute_odds  \\\n",
       "                                      mean       std                  mean   \n",
       "classifier          algorithm                                                \n",
       "decision_tree       -             0.181512  0.175289              0.303914   \n",
       "                    fair_rbo      0.172736  0.092499              0.224522   \n",
       "                    fawos         0.139683  0.116424              0.190260   \n",
       "                    fos           0.187762  0.138198              0.279392   \n",
       "                    hfos          0.129095  0.085398              0.197024   \n",
       "logistic_regression -             0.201461  0.153137              0.258532   \n",
       "                    fair_rbo      0.190052  0.098925              0.215449   \n",
       "                    fawos         0.187193  0.122292              0.198304   \n",
       "                    fos           0.164331  0.141429              0.219706   \n",
       "                    hfos          0.164529  0.099203              0.205601   \n",
       "mlp                 -             0.202859  0.133561              0.253166   \n",
       "                    fair_rbo      0.188808  0.081675              0.237419   \n",
       "                    fawos         0.199260  0.122286              0.199260   \n",
       "                    fos           0.128400  0.079789              0.184533   \n",
       "                    hfos          0.218506  0.110384              0.264971   \n",
       "\n",
       "                                        disparate_impact            \\\n",
       "                                    std             mean       std   \n",
       "classifier          algorithm                                        \n",
       "decision_tree       -          0.100392         0.607022  0.134482   \n",
       "                    fair_rbo   0.080496         0.878214  0.259081   \n",
       "                    fawos      0.099215         0.762844  0.125935   \n",
       "                    fos        0.099785         0.600561  0.219655   \n",
       "                    hfos       0.056341         0.814630  0.191888   \n",
       "logistic_regression -          0.115027         0.568700  0.134538   \n",
       "                    fair_rbo   0.100771         0.779223  0.267278   \n",
       "                    fawos      0.116460         0.726022  0.174701   \n",
       "                    fos        0.129772         0.523067  0.128286   \n",
       "                    hfos       0.087546         0.698919  0.205957   \n",
       "mlp                 -          0.114694         0.777292  0.194077   \n",
       "                    fair_rbo   0.118120         0.825089  0.249952   \n",
       "                    fawos      0.122286         0.908343  0.171062   \n",
       "                    fos        0.105732         0.724071  0.472358   \n",
       "                    hfos       0.076306         0.933095  0.366479   \n",
       "\n",
       "                              adapted_disparate_impact               gmean  \\\n",
       "                                                  mean       std      mean   \n",
       "classifier          algorithm                                                \n",
       "decision_tree       -                         0.607022  0.134482  0.263361   \n",
       "                    fair_rbo                  0.794881  0.146361  0.163204   \n",
       "                    fawos                     0.762844  0.125935  0.251948   \n",
       "                    fos                       0.600561  0.219655  0.212588   \n",
       "                    hfos                      0.795539  0.168401  0.137981   \n",
       "logistic_regression -                         0.568700  0.134538  0.146139   \n",
       "                    fair_rbo                  0.702535  0.151101  0.136178   \n",
       "                    fawos                     0.726022  0.174701  0.152312   \n",
       "                    fos                       0.523067  0.128286  0.143889   \n",
       "                    hfos                      0.675308  0.160116  0.122258   \n",
       "mlp                 -                         0.777292  0.194077  0.212296   \n",
       "                    fair_rbo                  0.752921  0.156085  0.160253   \n",
       "                    fawos                     0.842664  0.100715  0.346113   \n",
       "                    fos                       0.574071  0.151038  0.159771   \n",
       "                    hfos                      0.748986  0.189297  0.147318   \n",
       "\n",
       "                                         \n",
       "                                    std  \n",
       "classifier          algorithm            \n",
       "decision_tree       -          0.197618  \n",
       "                    fair_rbo   0.082048  \n",
       "                    fawos      0.244018  \n",
       "                    fos        0.118503  \n",
       "                    hfos       0.078548  \n",
       "logistic_regression -          0.081929  \n",
       "                    fair_rbo   0.087645  \n",
       "                    fawos      0.088936  \n",
       "                    fos        0.102352  \n",
       "                    hfos       0.098799  \n",
       "mlp                 -          0.227303  \n",
       "                    fair_rbo   0.240646  \n",
       "                    fawos      0.263969  \n",
       "                    fos        0.116210  \n",
       "                    hfos       0.094974  "
      ],
      "text/html": [
       "<div>\n",
       "<style scoped>\n",
       "    .dataframe tbody tr th:only-of-type {\n",
       "        vertical-align: middle;\n",
       "    }\n",
       "\n",
       "    .dataframe tbody tr th {\n",
       "        vertical-align: top;\n",
       "    }\n",
       "\n",
       "    .dataframe thead tr th {\n",
       "        text-align: left;\n",
       "    }\n",
       "\n",
       "    .dataframe thead tr:last-of-type th {\n",
       "        text-align: right;\n",
       "    }\n",
       "</style>\n",
       "<table border=\"1\" class=\"dataframe\">\n",
       "  <thead>\n",
       "    <tr>\n",
       "      <th></th>\n",
       "      <th></th>\n",
       "      <th colspan=\"2\" halign=\"left\">statistical_parity</th>\n",
       "      <th colspan=\"2\" halign=\"left\">accuracy</th>\n",
       "      <th colspan=\"2\" halign=\"left\">equal_opportunity</th>\n",
       "      <th colspan=\"2\" halign=\"left\">average_odds</th>\n",
       "      <th colspan=\"2\" halign=\"left\">average_absolute_odds</th>\n",
       "      <th colspan=\"2\" halign=\"left\">disparate_impact</th>\n",
       "      <th colspan=\"2\" halign=\"left\">adapted_disparate_impact</th>\n",
       "      <th colspan=\"2\" halign=\"left\">gmean</th>\n",
       "    </tr>\n",
       "    <tr>\n",
       "      <th></th>\n",
       "      <th></th>\n",
       "      <th>mean</th>\n",
       "      <th>std</th>\n",
       "      <th>mean</th>\n",
       "      <th>std</th>\n",
       "      <th>mean</th>\n",
       "      <th>std</th>\n",
       "      <th>mean</th>\n",
       "      <th>std</th>\n",
       "      <th>mean</th>\n",
       "      <th>std</th>\n",
       "      <th>mean</th>\n",
       "      <th>std</th>\n",
       "      <th>mean</th>\n",
       "      <th>std</th>\n",
       "      <th>mean</th>\n",
       "      <th>std</th>\n",
       "    </tr>\n",
       "    <tr>\n",
       "      <th>classifier</th>\n",
       "      <th>algorithm</th>\n",
       "      <th></th>\n",
       "      <th></th>\n",
       "      <th></th>\n",
       "      <th></th>\n",
       "      <th></th>\n",
       "      <th></th>\n",
       "      <th></th>\n",
       "      <th></th>\n",
       "      <th></th>\n",
       "      <th></th>\n",
       "      <th></th>\n",
       "      <th></th>\n",
       "      <th></th>\n",
       "      <th></th>\n",
       "      <th></th>\n",
       "      <th></th>\n",
       "    </tr>\n",
       "  </thead>\n",
       "  <tbody>\n",
       "    <tr>\n",
       "      <th rowspan=\"5\" valign=\"top\">decision_tree</th>\n",
       "      <th>-</th>\n",
       "      <td>0.320317</td>\n",
       "      <td>0.140104</td>\n",
       "      <td>0.152063</td>\n",
       "      <td>0.105089</td>\n",
       "      <td>0.247222</td>\n",
       "      <td>0.098343</td>\n",
       "      <td>0.181512</td>\n",
       "      <td>0.175289</td>\n",
       "      <td>0.303914</td>\n",
       "      <td>0.100392</td>\n",
       "      <td>0.607022</td>\n",
       "      <td>0.134482</td>\n",
       "      <td>0.607022</td>\n",
       "      <td>0.134482</td>\n",
       "      <td>0.263361</td>\n",
       "      <td>0.197618</td>\n",
       "    </tr>\n",
       "    <tr>\n",
       "      <th>fair_rbo</th>\n",
       "      <td>0.141825</td>\n",
       "      <td>0.135932</td>\n",
       "      <td>0.126587</td>\n",
       "      <td>0.073125</td>\n",
       "      <td>0.158135</td>\n",
       "      <td>0.116056</td>\n",
       "      <td>0.172736</td>\n",
       "      <td>0.092499</td>\n",
       "      <td>0.224522</td>\n",
       "      <td>0.080496</td>\n",
       "      <td>0.878214</td>\n",
       "      <td>0.259081</td>\n",
       "      <td>0.794881</td>\n",
       "      <td>0.146361</td>\n",
       "      <td>0.163204</td>\n",
       "      <td>0.082048</td>\n",
       "    </tr>\n",
       "    <tr>\n",
       "      <th>fawos</th>\n",
       "      <td>0.203413</td>\n",
       "      <td>0.117275</td>\n",
       "      <td>0.122143</td>\n",
       "      <td>0.078074</td>\n",
       "      <td>0.104762</td>\n",
       "      <td>0.110022</td>\n",
       "      <td>0.139683</td>\n",
       "      <td>0.116424</td>\n",
       "      <td>0.190260</td>\n",
       "      <td>0.099215</td>\n",
       "      <td>0.762844</td>\n",
       "      <td>0.125935</td>\n",
       "      <td>0.762844</td>\n",
       "      <td>0.125935</td>\n",
       "      <td>0.251948</td>\n",
       "      <td>0.244018</td>\n",
       "    </tr>\n",
       "    <tr>\n",
       "      <th>fos</th>\n",
       "      <td>0.302619</td>\n",
       "      <td>0.178465</td>\n",
       "      <td>0.156587</td>\n",
       "      <td>0.118737</td>\n",
       "      <td>0.239087</td>\n",
       "      <td>0.156988</td>\n",
       "      <td>0.187762</td>\n",
       "      <td>0.138198</td>\n",
       "      <td>0.279392</td>\n",
       "      <td>0.099785</td>\n",
       "      <td>0.600561</td>\n",
       "      <td>0.219655</td>\n",
       "      <td>0.600561</td>\n",
       "      <td>0.219655</td>\n",
       "      <td>0.212588</td>\n",
       "      <td>0.118503</td>\n",
       "    </tr>\n",
       "    <tr>\n",
       "      <th>hfos</th>\n",
       "      <td>0.158968</td>\n",
       "      <td>0.144312</td>\n",
       "      <td>0.138810</td>\n",
       "      <td>0.081782</td>\n",
       "      <td>0.185714</td>\n",
       "      <td>0.128093</td>\n",
       "      <td>0.129095</td>\n",
       "      <td>0.085398</td>\n",
       "      <td>0.197024</td>\n",
       "      <td>0.056341</td>\n",
       "      <td>0.814630</td>\n",
       "      <td>0.191888</td>\n",
       "      <td>0.795539</td>\n",
       "      <td>0.168401</td>\n",
       "      <td>0.137981</td>\n",
       "      <td>0.078548</td>\n",
       "    </tr>\n",
       "    <tr>\n",
       "      <th rowspan=\"5\" valign=\"top\">logistic_regression</th>\n",
       "      <th>-</th>\n",
       "      <td>0.361190</td>\n",
       "      <td>0.138089</td>\n",
       "      <td>0.106587</td>\n",
       "      <td>0.097622</td>\n",
       "      <td>0.217063</td>\n",
       "      <td>0.104056</td>\n",
       "      <td>0.201461</td>\n",
       "      <td>0.153137</td>\n",
       "      <td>0.258532</td>\n",
       "      <td>0.115027</td>\n",
       "      <td>0.568700</td>\n",
       "      <td>0.134538</td>\n",
       "      <td>0.568700</td>\n",
       "      <td>0.134538</td>\n",
       "      <td>0.146139</td>\n",
       "      <td>0.081929</td>\n",
       "    </tr>\n",
       "    <tr>\n",
       "      <th>fair_rbo</th>\n",
       "      <td>0.223968</td>\n",
       "      <td>0.136047</td>\n",
       "      <td>0.079365</td>\n",
       "      <td>0.104975</td>\n",
       "      <td>0.125595</td>\n",
       "      <td>0.117263</td>\n",
       "      <td>0.190052</td>\n",
       "      <td>0.098925</td>\n",
       "      <td>0.215449</td>\n",
       "      <td>0.100771</td>\n",
       "      <td>0.779223</td>\n",
       "      <td>0.267278</td>\n",
       "      <td>0.702535</td>\n",
       "      <td>0.151101</td>\n",
       "      <td>0.136178</td>\n",
       "      <td>0.087645</td>\n",
       "    </tr>\n",
       "    <tr>\n",
       "      <th>fawos</th>\n",
       "      <td>0.236429</td>\n",
       "      <td>0.162806</td>\n",
       "      <td>0.113571</td>\n",
       "      <td>0.096681</td>\n",
       "      <td>0.092063</td>\n",
       "      <td>0.115872</td>\n",
       "      <td>0.187193</td>\n",
       "      <td>0.122292</td>\n",
       "      <td>0.198304</td>\n",
       "      <td>0.116460</td>\n",
       "      <td>0.726022</td>\n",
       "      <td>0.174701</td>\n",
       "      <td>0.726022</td>\n",
       "      <td>0.174701</td>\n",
       "      <td>0.152312</td>\n",
       "      <td>0.088936</td>\n",
       "    </tr>\n",
       "    <tr>\n",
       "      <th>fos</th>\n",
       "      <td>0.353016</td>\n",
       "      <td>0.140535</td>\n",
       "      <td>0.121587</td>\n",
       "      <td>0.098555</td>\n",
       "      <td>0.229563</td>\n",
       "      <td>0.160266</td>\n",
       "      <td>0.164331</td>\n",
       "      <td>0.141429</td>\n",
       "      <td>0.219706</td>\n",
       "      <td>0.129772</td>\n",
       "      <td>0.523067</td>\n",
       "      <td>0.128286</td>\n",
       "      <td>0.523067</td>\n",
       "      <td>0.128286</td>\n",
       "      <td>0.143889</td>\n",
       "      <td>0.102352</td>\n",
       "    </tr>\n",
       "    <tr>\n",
       "      <th>hfos</th>\n",
       "      <td>0.248730</td>\n",
       "      <td>0.148477</td>\n",
       "      <td>0.093651</td>\n",
       "      <td>0.098581</td>\n",
       "      <td>0.150595</td>\n",
       "      <td>0.067112</td>\n",
       "      <td>0.164529</td>\n",
       "      <td>0.099203</td>\n",
       "      <td>0.205601</td>\n",
       "      <td>0.087546</td>\n",
       "      <td>0.698919</td>\n",
       "      <td>0.205957</td>\n",
       "      <td>0.675308</td>\n",
       "      <td>0.160116</td>\n",
       "      <td>0.122258</td>\n",
       "      <td>0.098799</td>\n",
       "    </tr>\n",
       "    <tr>\n",
       "      <th rowspan=\"5\" valign=\"top\">mlp</th>\n",
       "      <th>-</th>\n",
       "      <td>0.184444</td>\n",
       "      <td>0.182727</td>\n",
       "      <td>0.121587</td>\n",
       "      <td>0.115318</td>\n",
       "      <td>0.160119</td>\n",
       "      <td>0.123182</td>\n",
       "      <td>0.202859</td>\n",
       "      <td>0.133561</td>\n",
       "      <td>0.253166</td>\n",
       "      <td>0.114694</td>\n",
       "      <td>0.777292</td>\n",
       "      <td>0.194077</td>\n",
       "      <td>0.777292</td>\n",
       "      <td>0.194077</td>\n",
       "      <td>0.212296</td>\n",
       "      <td>0.227303</td>\n",
       "    </tr>\n",
       "    <tr>\n",
       "      <th>fair_rbo</th>\n",
       "      <td>0.184841</td>\n",
       "      <td>0.131357</td>\n",
       "      <td>0.130714</td>\n",
       "      <td>0.106206</td>\n",
       "      <td>0.208929</td>\n",
       "      <td>0.084138</td>\n",
       "      <td>0.188808</td>\n",
       "      <td>0.081675</td>\n",
       "      <td>0.237419</td>\n",
       "      <td>0.118120</td>\n",
       "      <td>0.825089</td>\n",
       "      <td>0.249952</td>\n",
       "      <td>0.752921</td>\n",
       "      <td>0.156085</td>\n",
       "      <td>0.160253</td>\n",
       "      <td>0.240646</td>\n",
       "    </tr>\n",
       "    <tr>\n",
       "      <th>fawos</th>\n",
       "      <td>0.141349</td>\n",
       "      <td>0.104746</td>\n",
       "      <td>0.201349</td>\n",
       "      <td>0.151097</td>\n",
       "      <td>0.017460</td>\n",
       "      <td>0.038483</td>\n",
       "      <td>0.199260</td>\n",
       "      <td>0.122286</td>\n",
       "      <td>0.199260</td>\n",
       "      <td>0.122286</td>\n",
       "      <td>0.908343</td>\n",
       "      <td>0.171062</td>\n",
       "      <td>0.842664</td>\n",
       "      <td>0.100715</td>\n",
       "      <td>0.346113</td>\n",
       "      <td>0.263969</td>\n",
       "    </tr>\n",
       "    <tr>\n",
       "      <th>fos</th>\n",
       "      <td>0.246349</td>\n",
       "      <td>0.142144</td>\n",
       "      <td>0.121111</td>\n",
       "      <td>0.123750</td>\n",
       "      <td>0.206944</td>\n",
       "      <td>0.159506</td>\n",
       "      <td>0.128400</td>\n",
       "      <td>0.079789</td>\n",
       "      <td>0.184533</td>\n",
       "      <td>0.105732</td>\n",
       "      <td>0.724071</td>\n",
       "      <td>0.472358</td>\n",
       "      <td>0.574071</td>\n",
       "      <td>0.151038</td>\n",
       "      <td>0.159771</td>\n",
       "      <td>0.116210</td>\n",
       "    </tr>\n",
       "    <tr>\n",
       "      <th>hfos</th>\n",
       "      <td>0.188571</td>\n",
       "      <td>0.168136</td>\n",
       "      <td>0.142063</td>\n",
       "      <td>0.101154</td>\n",
       "      <td>0.258730</td>\n",
       "      <td>0.097000</td>\n",
       "      <td>0.218506</td>\n",
       "      <td>0.110384</td>\n",
       "      <td>0.264971</td>\n",
       "      <td>0.076306</td>\n",
       "      <td>0.933095</td>\n",
       "      <td>0.366479</td>\n",
       "      <td>0.748986</td>\n",
       "      <td>0.189297</td>\n",
       "      <td>0.147318</td>\n",
       "      <td>0.094974</td>\n",
       "    </tr>\n",
       "  </tbody>\n",
       "</table>\n",
       "</div>"
      ]
     },
     "metadata": {},
     "output_type": "display_data"
    },
    {
     "name": "stdout",
     "output_type": "stream",
     "text": [
      "----------------------------------------------------------------\n"
     ]
    }
   ],
   "execution_count": 83
  },
  {
   "metadata": {
    "ExecuteTime": {
     "end_time": "2024-06-10T23:14:14.780338Z",
     "start_time": "2024-06-10T23:14:14.761093Z"
    }
   },
   "cell_type": "code",
   "source": [
    "for dataset_name, dfs in zip(dataset_names, dfs_fairness):\n",
    "    print(dataset_name)\n",
    "    print_to_latex(dfs)\n",
    "    print('----------------------------------------------------------------')"
   ],
   "id": "8c8b6d4c4a2da274",
   "outputs": [
    {
     "name": "stdout",
     "output_type": "stream",
     "text": [
      "heart_disease\n",
      "\\begin{tabular}{llrrrrrrrrrrrrrrrr}\n",
      "\\toprule\n",
      " &  & \\multicolumn{2}{r}{statistical_parity} & \\multicolumn{2}{r}{accuracy} & \\multicolumn{2}{r}{equal_opportunity} & \\multicolumn{2}{r}{average_odds} & \\multicolumn{2}{r}{average_absolute_odds} & \\multicolumn{2}{r}{disparate_impact} & \\multicolumn{2}{r}{adapted_disparate_impact} & \\multicolumn{2}{r}{gmean} \\\\\n",
      " &  & mean & std & mean & std & mean & std & mean & std & mean & std & mean & std & mean & std & mean & std \\\\\n",
      "classifier & algorithm &  &  &  &  &  &  &  &  &  &  &  &  &  &  &  &  \\\\\n",
      "\\midrule\n",
      "\\multirow[t]{5}{*}{decision_tree} & - & 0.320317 & 0.140104 & 0.075714 & 0.169942 & -0.161508 & 0.213550 & 0.173178 & 0.183733 & 0.303914 & 0.100392 & 0.607022 & 0.134482 & 0.607022 & 0.134482 & -0.082532 & 0.321253 \\\\\n",
      " & fair_rbo & 0.111825 & 0.164111 & -0.020079 & 0.150679 & 0.064087 & 0.191548 & -0.044165 & 0.198852 & 0.224522 & 0.080496 & 0.878214 & 0.259081 & 0.794881 & 0.146361 & -0.043268 & 0.185059 \\\\\n",
      " & fawos & 0.203413 & 0.117275 & 0.082143 & 0.123186 & -0.028571 & 0.152946 & 0.088528 & 0.162867 & 0.190260 & 0.099215 & 0.762844 & 0.125935 & 0.762844 & 0.125935 & -0.166890 & 0.314847 \\\\\n",
      " & fos & 0.302619 & 0.178465 & 0.081190 & 0.184440 & -0.191468 & 0.217775 & 0.131340 & 0.197746 & 0.279392 & 0.099785 & 0.600561 & 0.219655 & 0.600561 & 0.219655 & 0.048084 & 0.248373 \\\\\n",
      " & hfos & 0.148968 & 0.155716 & 0.012143 & 0.167133 & 0.033333 & 0.231290 & -0.012500 & 0.160113 & 0.197024 & 0.056341 & 0.814630 & 0.191888 & 0.795539 & 0.168401 & -0.032745 & 0.161656 \\\\\n",
      "\\cline{1-18}\n",
      "\\multirow[t]{5}{*}{logistic_regression} & - & 0.361190 & 0.138089 & 0.096587 & 0.107768 & -0.188492 & 0.150705 & 0.163943 & 0.193679 & 0.258532 & 0.115027 & 0.568700 & 0.134538 & 0.568700 & 0.134538 & -0.004503 & 0.169103 \\\\\n",
      " & fair_rbo & 0.183968 & 0.191414 & 0.039365 & 0.127658 & -0.010913 & 0.176480 & 0.005835 & 0.223342 & 0.215449 & 0.100771 & 0.779223 & 0.267278 & 0.702535 & 0.151101 & -0.009457 & 0.167891 \\\\\n",
      " & fawos & 0.236429 & 0.162806 & 0.111349 & 0.099512 & -0.063492 & 0.135516 & 0.039322 & 0.228412 & 0.198304 & 0.116460 & 0.726022 & 0.174701 & 0.726022 & 0.174701 & 0.004778 & 0.183469 \\\\\n",
      " & fos & 0.353016 & 0.140535 & 0.081587 & 0.136905 & -0.223214 & 0.169939 & 0.153653 & 0.154191 & 0.219706 & 0.129772 & 0.523067 & 0.128286 & 0.523067 & 0.128286 & 0.064210 & 0.169998 \\\\\n",
      " & hfos & 0.238730 & 0.165715 & 0.044127 & 0.131528 & -0.061706 & 0.159600 & 0.053580 & 0.191648 & 0.205601 & 0.087546 & 0.698919 & 0.205957 & 0.675308 & 0.160116 & -0.008705 & 0.162126 \\\\\n",
      "\\cline{1-18}\n",
      "\\multirow[t]{5}{*}{mlp} & - & 0.184444 & 0.182727 & 0.061587 & 0.156750 & -0.017659 & 0.202853 & 0.016026 & 0.244504 & 0.253166 & 0.114694 & 0.777292 & 0.194077 & 0.777292 & 0.194077 & -0.048359 & 0.309020 \\\\\n",
      " & fair_rbo & 0.144841 & 0.178626 & 0.020714 & 0.172591 & 0.027976 & 0.233904 & -0.014367 & 0.214594 & 0.237419 & 0.118120 & 0.825089 & 0.249952 & 0.752921 & 0.156085 & -0.052545 & 0.288750 \\\\\n",
      " & fawos & 0.086905 & 0.157416 & 0.201349 & 0.151097 & -0.004762 & 0.042361 & -0.074513 & 0.230002 & 0.199260 & 0.122286 & 0.908343 & 0.171062 & 0.842664 & 0.100715 & 0.053152 & 0.446817 \\\\\n",
      " & fos & 0.226349 & 0.175240 & 0.016667 & 0.176927 & -0.126786 & 0.234874 & 0.047484 & 0.148928 & 0.184533 & 0.105732 & 0.724071 & 0.472358 & 0.574071 & 0.151038 & 0.069850 & 0.190911 \\\\\n",
      " & hfos & 0.105873 & 0.235213 & 0.005714 & 0.180611 & 0.080952 & 0.276599 & -0.089719 & 0.237257 & 0.264971 & 0.076306 & 0.933095 & 0.366479 & 0.748986 & 0.189297 & -0.009534 & 0.181750 \\\\\n",
      "\\cline{1-18}\n",
      "\\bottomrule\n",
      "\\end{tabular}\n",
      "\n",
      "----------------------------------------------------------------\n"
     ]
    }
   ],
   "execution_count": 84
  },
  {
   "metadata": {
    "ExecuteTime": {
     "end_time": "2024-06-10T23:14:15.876997Z",
     "start_time": "2024-06-10T23:14:15.857138Z"
    }
   },
   "cell_type": "code",
   "source": [
    "for dataset_name, dfs in zip(dataset_names, dfs_performance):\n",
    "    df = aggregate_runs(dfs)\n",
    "    print(dataset_name)\n",
    "    display(df)\n",
    "    print('----------------------------------------------------------------')"
   ],
   "id": "3c74eaf68585e3ae",
   "outputs": [
    {
     "name": "stdout",
     "output_type": "stream",
     "text": [
      "heart_disease\n"
     ]
    },
    {
     "data": {
      "text/plain": [
       "                               accuracy           balanced_accuracy            \\\n",
       "                                   mean       std              mean       std   \n",
       "classifier          algorithm                                                   \n",
       "decision_tree       -          0.774713  0.028275          0.770143  0.027067   \n",
       "                    fair_rbo   0.764253  0.074622          0.761561  0.071228   \n",
       "                    fawos      0.757356  0.057234          0.743063  0.061936   \n",
       "                    fos        0.760805  0.066403          0.762540  0.062315   \n",
       "                    hfos       0.774368  0.084978          0.770497  0.083357   \n",
       "logistic_regression -          0.841609  0.059065          0.837920  0.060102   \n",
       "                    fair_rbo   0.798161  0.058439          0.793883  0.055091   \n",
       "                    fawos      0.831839  0.043936          0.821703  0.042934   \n",
       "                    fos        0.811609  0.081636          0.815059  0.080579   \n",
       "                    hfos       0.814943  0.075854          0.812132  0.076240   \n",
       "mlp                 -          0.784598  0.080181          0.777563  0.081708   \n",
       "                    fair_rbo   0.781264  0.056775          0.777484  0.057570   \n",
       "                    fawos      0.741034  0.074629          0.721738  0.080533   \n",
       "                    fos        0.751149  0.095212          0.760123  0.090706   \n",
       "                    hfos       0.801494  0.055191          0.798568  0.054123   \n",
       "\n",
       "                                     f1               gmean            \n",
       "                                   mean       std      mean       std  \n",
       "classifier          algorithm                                          \n",
       "decision_tree       -          0.745109  0.029643  0.765733  0.027459  \n",
       "                    fair_rbo   0.745666  0.071605  0.757357  0.069085  \n",
       "                    fawos      0.677145  0.095745  0.715870  0.078836  \n",
       "                    fos        0.754847  0.057499  0.757702  0.062716  \n",
       "                    hfos       0.746708  0.096039  0.764658  0.087058  \n",
       "logistic_regression -          0.821175  0.068260  0.835573  0.061726  \n",
       "                    fair_rbo   0.775545  0.059770  0.789105  0.055347  \n",
       "                    fawos      0.791280  0.053824  0.809796  0.046215  \n",
       "                    fos        0.810371  0.078675  0.811155  0.082914  \n",
       "                    hfos       0.795873  0.085191  0.809428  0.077683  \n",
       "mlp                 -          0.745626  0.097167  0.769672  0.083709  \n",
       "                    fair_rbo   0.754751  0.066251  0.772424  0.057135  \n",
       "                    fawos      0.604904  0.186935  0.656011  0.151707  \n",
       "                    fos        0.770696  0.072068  0.740357  0.116652  \n",
       "                    hfos       0.780517  0.057623  0.794160  0.055548  "
      ],
      "text/html": [
       "<div>\n",
       "<style scoped>\n",
       "    .dataframe tbody tr th:only-of-type {\n",
       "        vertical-align: middle;\n",
       "    }\n",
       "\n",
       "    .dataframe tbody tr th {\n",
       "        vertical-align: top;\n",
       "    }\n",
       "\n",
       "    .dataframe thead tr th {\n",
       "        text-align: left;\n",
       "    }\n",
       "\n",
       "    .dataframe thead tr:last-of-type th {\n",
       "        text-align: right;\n",
       "    }\n",
       "</style>\n",
       "<table border=\"1\" class=\"dataframe\">\n",
       "  <thead>\n",
       "    <tr>\n",
       "      <th></th>\n",
       "      <th></th>\n",
       "      <th colspan=\"2\" halign=\"left\">accuracy</th>\n",
       "      <th colspan=\"2\" halign=\"left\">balanced_accuracy</th>\n",
       "      <th colspan=\"2\" halign=\"left\">f1</th>\n",
       "      <th colspan=\"2\" halign=\"left\">gmean</th>\n",
       "    </tr>\n",
       "    <tr>\n",
       "      <th></th>\n",
       "      <th></th>\n",
       "      <th>mean</th>\n",
       "      <th>std</th>\n",
       "      <th>mean</th>\n",
       "      <th>std</th>\n",
       "      <th>mean</th>\n",
       "      <th>std</th>\n",
       "      <th>mean</th>\n",
       "      <th>std</th>\n",
       "    </tr>\n",
       "    <tr>\n",
       "      <th>classifier</th>\n",
       "      <th>algorithm</th>\n",
       "      <th></th>\n",
       "      <th></th>\n",
       "      <th></th>\n",
       "      <th></th>\n",
       "      <th></th>\n",
       "      <th></th>\n",
       "      <th></th>\n",
       "      <th></th>\n",
       "    </tr>\n",
       "  </thead>\n",
       "  <tbody>\n",
       "    <tr>\n",
       "      <th rowspan=\"5\" valign=\"top\">decision_tree</th>\n",
       "      <th>-</th>\n",
       "      <td>0.774713</td>\n",
       "      <td>0.028275</td>\n",
       "      <td>0.770143</td>\n",
       "      <td>0.027067</td>\n",
       "      <td>0.745109</td>\n",
       "      <td>0.029643</td>\n",
       "      <td>0.765733</td>\n",
       "      <td>0.027459</td>\n",
       "    </tr>\n",
       "    <tr>\n",
       "      <th>fair_rbo</th>\n",
       "      <td>0.764253</td>\n",
       "      <td>0.074622</td>\n",
       "      <td>0.761561</td>\n",
       "      <td>0.071228</td>\n",
       "      <td>0.745666</td>\n",
       "      <td>0.071605</td>\n",
       "      <td>0.757357</td>\n",
       "      <td>0.069085</td>\n",
       "    </tr>\n",
       "    <tr>\n",
       "      <th>fawos</th>\n",
       "      <td>0.757356</td>\n",
       "      <td>0.057234</td>\n",
       "      <td>0.743063</td>\n",
       "      <td>0.061936</td>\n",
       "      <td>0.677145</td>\n",
       "      <td>0.095745</td>\n",
       "      <td>0.715870</td>\n",
       "      <td>0.078836</td>\n",
       "    </tr>\n",
       "    <tr>\n",
       "      <th>fos</th>\n",
       "      <td>0.760805</td>\n",
       "      <td>0.066403</td>\n",
       "      <td>0.762540</td>\n",
       "      <td>0.062315</td>\n",
       "      <td>0.754847</td>\n",
       "      <td>0.057499</td>\n",
       "      <td>0.757702</td>\n",
       "      <td>0.062716</td>\n",
       "    </tr>\n",
       "    <tr>\n",
       "      <th>hfos</th>\n",
       "      <td>0.774368</td>\n",
       "      <td>0.084978</td>\n",
       "      <td>0.770497</td>\n",
       "      <td>0.083357</td>\n",
       "      <td>0.746708</td>\n",
       "      <td>0.096039</td>\n",
       "      <td>0.764658</td>\n",
       "      <td>0.087058</td>\n",
       "    </tr>\n",
       "    <tr>\n",
       "      <th rowspan=\"5\" valign=\"top\">logistic_regression</th>\n",
       "      <th>-</th>\n",
       "      <td>0.841609</td>\n",
       "      <td>0.059065</td>\n",
       "      <td>0.837920</td>\n",
       "      <td>0.060102</td>\n",
       "      <td>0.821175</td>\n",
       "      <td>0.068260</td>\n",
       "      <td>0.835573</td>\n",
       "      <td>0.061726</td>\n",
       "    </tr>\n",
       "    <tr>\n",
       "      <th>fair_rbo</th>\n",
       "      <td>0.798161</td>\n",
       "      <td>0.058439</td>\n",
       "      <td>0.793883</td>\n",
       "      <td>0.055091</td>\n",
       "      <td>0.775545</td>\n",
       "      <td>0.059770</td>\n",
       "      <td>0.789105</td>\n",
       "      <td>0.055347</td>\n",
       "    </tr>\n",
       "    <tr>\n",
       "      <th>fawos</th>\n",
       "      <td>0.831839</td>\n",
       "      <td>0.043936</td>\n",
       "      <td>0.821703</td>\n",
       "      <td>0.042934</td>\n",
       "      <td>0.791280</td>\n",
       "      <td>0.053824</td>\n",
       "      <td>0.809796</td>\n",
       "      <td>0.046215</td>\n",
       "    </tr>\n",
       "    <tr>\n",
       "      <th>fos</th>\n",
       "      <td>0.811609</td>\n",
       "      <td>0.081636</td>\n",
       "      <td>0.815059</td>\n",
       "      <td>0.080579</td>\n",
       "      <td>0.810371</td>\n",
       "      <td>0.078675</td>\n",
       "      <td>0.811155</td>\n",
       "      <td>0.082914</td>\n",
       "    </tr>\n",
       "    <tr>\n",
       "      <th>hfos</th>\n",
       "      <td>0.814943</td>\n",
       "      <td>0.075854</td>\n",
       "      <td>0.812132</td>\n",
       "      <td>0.076240</td>\n",
       "      <td>0.795873</td>\n",
       "      <td>0.085191</td>\n",
       "      <td>0.809428</td>\n",
       "      <td>0.077683</td>\n",
       "    </tr>\n",
       "    <tr>\n",
       "      <th rowspan=\"5\" valign=\"top\">mlp</th>\n",
       "      <th>-</th>\n",
       "      <td>0.784598</td>\n",
       "      <td>0.080181</td>\n",
       "      <td>0.777563</td>\n",
       "      <td>0.081708</td>\n",
       "      <td>0.745626</td>\n",
       "      <td>0.097167</td>\n",
       "      <td>0.769672</td>\n",
       "      <td>0.083709</td>\n",
       "    </tr>\n",
       "    <tr>\n",
       "      <th>fair_rbo</th>\n",
       "      <td>0.781264</td>\n",
       "      <td>0.056775</td>\n",
       "      <td>0.777484</td>\n",
       "      <td>0.057570</td>\n",
       "      <td>0.754751</td>\n",
       "      <td>0.066251</td>\n",
       "      <td>0.772424</td>\n",
       "      <td>0.057135</td>\n",
       "    </tr>\n",
       "    <tr>\n",
       "      <th>fawos</th>\n",
       "      <td>0.741034</td>\n",
       "      <td>0.074629</td>\n",
       "      <td>0.721738</td>\n",
       "      <td>0.080533</td>\n",
       "      <td>0.604904</td>\n",
       "      <td>0.186935</td>\n",
       "      <td>0.656011</td>\n",
       "      <td>0.151707</td>\n",
       "    </tr>\n",
       "    <tr>\n",
       "      <th>fos</th>\n",
       "      <td>0.751149</td>\n",
       "      <td>0.095212</td>\n",
       "      <td>0.760123</td>\n",
       "      <td>0.090706</td>\n",
       "      <td>0.770696</td>\n",
       "      <td>0.072068</td>\n",
       "      <td>0.740357</td>\n",
       "      <td>0.116652</td>\n",
       "    </tr>\n",
       "    <tr>\n",
       "      <th>hfos</th>\n",
       "      <td>0.801494</td>\n",
       "      <td>0.055191</td>\n",
       "      <td>0.798568</td>\n",
       "      <td>0.054123</td>\n",
       "      <td>0.780517</td>\n",
       "      <td>0.057623</td>\n",
       "      <td>0.794160</td>\n",
       "      <td>0.055548</td>\n",
       "    </tr>\n",
       "  </tbody>\n",
       "</table>\n",
       "</div>"
      ]
     },
     "metadata": {},
     "output_type": "display_data"
    },
    {
     "name": "stdout",
     "output_type": "stream",
     "text": [
      "----------------------------------------------------------------\n"
     ]
    }
   ],
   "execution_count": 85
  },
  {
   "metadata": {
    "ExecuteTime": {
     "end_time": "2024-06-10T23:14:19.890758Z",
     "start_time": "2024-06-10T23:14:19.873141Z"
    }
   },
   "cell_type": "code",
   "source": [
    "\n",
    "for dataset_name, dfs in zip(dataset_names, dfs_performance):\n",
    "    print(dataset_name)\n",
    "    print_to_latex(dfs)\n",
    "    print('----------------------------------------------------------------')"
   ],
   "id": "87445a71c25cc377",
   "outputs": [
    {
     "name": "stdout",
     "output_type": "stream",
     "text": [
      "heart_disease\n",
      "\\begin{tabular}{llrrrrrrrr}\n",
      "\\toprule\n",
      " &  & \\multicolumn{2}{r}{accuracy} & \\multicolumn{2}{r}{balanced_accuracy} & \\multicolumn{2}{r}{f1} & \\multicolumn{2}{r}{gmean} \\\\\n",
      " &  & mean & std & mean & std & mean & std & mean & std \\\\\n",
      "classifier & algorithm &  &  &  &  &  &  &  &  \\\\\n",
      "\\midrule\n",
      "\\multirow[t]{5}{*}{decision_tree} & - & 0.774713 & 0.028275 & 0.770143 & 0.027067 & 0.745109 & 0.029643 & 0.765733 & 0.027459 \\\\\n",
      " & fair_rbo & 0.764253 & 0.074622 & 0.761561 & 0.071228 & 0.745666 & 0.071605 & 0.757357 & 0.069085 \\\\\n",
      " & fawos & 0.757356 & 0.057234 & 0.743063 & 0.061936 & 0.677145 & 0.095745 & 0.715870 & 0.078836 \\\\\n",
      " & fos & 0.760805 & 0.066403 & 0.762540 & 0.062315 & 0.754847 & 0.057499 & 0.757702 & 0.062716 \\\\\n",
      " & hfos & 0.774368 & 0.084978 & 0.770497 & 0.083357 & 0.746708 & 0.096039 & 0.764658 & 0.087058 \\\\\n",
      "\\cline{1-10}\n",
      "\\multirow[t]{5}{*}{logistic_regression} & - & 0.841609 & 0.059065 & 0.837920 & 0.060102 & 0.821175 & 0.068260 & 0.835573 & 0.061726 \\\\\n",
      " & fair_rbo & 0.798161 & 0.058439 & 0.793883 & 0.055091 & 0.775545 & 0.059770 & 0.789105 & 0.055347 \\\\\n",
      " & fawos & 0.831839 & 0.043936 & 0.821703 & 0.042934 & 0.791280 & 0.053824 & 0.809796 & 0.046215 \\\\\n",
      " & fos & 0.811609 & 0.081636 & 0.815059 & 0.080579 & 0.810371 & 0.078675 & 0.811155 & 0.082914 \\\\\n",
      " & hfos & 0.814943 & 0.075854 & 0.812132 & 0.076240 & 0.795873 & 0.085191 & 0.809428 & 0.077683 \\\\\n",
      "\\cline{1-10}\n",
      "\\multirow[t]{5}{*}{mlp} & - & 0.784598 & 0.080181 & 0.777563 & 0.081708 & 0.745626 & 0.097167 & 0.769672 & 0.083709 \\\\\n",
      " & fair_rbo & 0.781264 & 0.056775 & 0.777484 & 0.057570 & 0.754751 & 0.066251 & 0.772424 & 0.057135 \\\\\n",
      " & fawos & 0.741034 & 0.074629 & 0.721738 & 0.080533 & 0.604904 & 0.186935 & 0.656011 & 0.151707 \\\\\n",
      " & fos & 0.751149 & 0.095212 & 0.760123 & 0.090706 & 0.770696 & 0.072068 & 0.740357 & 0.116652 \\\\\n",
      " & hfos & 0.801494 & 0.055191 & 0.798568 & 0.054123 & 0.780517 & 0.057623 & 0.794160 & 0.055548 \\\\\n",
      "\\cline{1-10}\n",
      "\\bottomrule\n",
      "\\end{tabular}\n",
      "\n",
      "----------------------------------------------------------------\n"
     ]
    }
   ],
   "execution_count": 86
  },
  {
   "metadata": {
    "ExecuteTime": {
     "end_time": "2024-06-10T23:14:21.457725Z",
     "start_time": "2024-06-10T23:14:20.706067Z"
    }
   },
   "cell_type": "code",
   "source": [
    "for dataset_name, dfs in zip(dataset_names, dfs_fairness):\n",
    "    print(dataset_name)\n",
    "    aggregate_runs_no_mean(dfs, y='average_absolute_odds')"
   ],
   "id": "87d5cdd817fab7e2",
   "outputs": [
    {
     "name": "stdout",
     "output_type": "stream",
     "text": [
      "heart_disease\n"
     ]
    },
    {
     "data": {
      "text/plain": [
       "<Figure size 1003.38x300 with 3 Axes>"
      ],
      "image/png": "[encoded data removed]"
     },
     "metadata": {},
     "output_type": "display_data"
    }
   ],
   "execution_count": 87
  },
  {
   "metadata": {
    "ExecuteTime": {
     "end_time": "2024-06-10T23:14:30.091461Z",
     "start_time": "2024-06-10T23:14:29.356734Z"
    }
   },
   "cell_type": "code",
   "source": [
    "for dataset_name, dfs in zip(dataset_names, dfs_performance):\n",
    "    print(dataset_name)\n",
    "    aggregate_runs_no_mean(dfs, y='gmean')"
   ],
   "id": "984f5b9dceb1cd37",
   "outputs": [
    {
     "name": "stdout",
     "output_type": "stream",
     "text": [
      "heart_disease\n"
     ]
    },
    {
     "data": {
      "text/plain": [
       "<Figure size 1003.38x300 with 3 Axes>"
      ],
      "image/png": "[encoded data removed]"
     },
     "metadata": {},
     "output_type": "display_data"
    }
   ],
   "execution_count": 88
  },
  {
   "metadata": {},
   "cell_type": "markdown",
   "source": "# Cont ",
   "id": "99e6ebc67549c13e"
  },
  {
   "metadata": {},
   "cell_type": "code",
   "source": [
    "dfs_fairness = []\n",
    "dfs_performance = []\n",
    "dataset_names = ['adult', 'german', 'heart_disease']\n",
    "classifier_names = ['decision_tree', 'mlp', 'logistic_regression', 'naive_bayes']\n",
    "algorithm_names = ['fos', 'hfos']\n",
    "folder_names = ['2023-04-26-cont', '2023-04-26-cont']\n",
    "\n",
    "for dataset_name in dataset_names:\n",
    "    df_data_fair = []\n",
    "    df_data_perf = []\n",
    "    for classifier_name in classifier_names:\n",
    "        for folder_name, algorithm_name in zip(folder_names, algorithm_names):\n",
    "            for i in range(0, 6):\n",
    "                if os.path.exists(os.path.join('../results/results', f'{algorithm_name}_{dataset_name}_{classifier_name}', folder_name, f'fairness_{i}.csv')):\n",
    "                    fair_path = os.path.join('../results/results', f'{algorithm_name}_{dataset_name}_{classifier_name}', folder_name, f'fairness_{i}.csv')\n",
    "                    perf_path = os.path.join('../results/results', f'{algorithm_name}_{dataset_name}_{classifier_name}', folder_name, f'performance_{i}.csv')\n",
    "                    df_fair = pd.read_csv(fair_path)\n",
    "                    df_performance = pd.read_csv(perf_path)\n",
    "                    df_fair['classifier'] = [classifier_name] * len(df_fair)\n",
    "                    df_fair['algorithm'] = [algorithm_name if 'fair' in x else '-' for x in df_fair['data']]\n",
    "                    df_fair['iteration'] = [i] * len(df_fair)\n",
    "                    df_fair.drop(columns=['data', 'average_odds', 'average_absolute_odds'], inplace=True)\n",
    "                    df_performance['classifier'] = [classifier_name] * len(df_performance)\n",
    "                    df_performance['algorithm'] = [algorithm_name if 'fair' in x else '-' for x in df_performance['data']]\n",
    "                    df_performance['iteration'] = [i] * len(df_performance)\n",
    "                    df_performance.drop(columns=['data'], inplace=True)\n",
    "                    df_data_fair.append(df_fair)\n",
    "                    df_data_perf.append(df_performance)\n",
    "    dfs_fairness.append(df_data_fair)\n",
    "    dfs_performance.append(df_data_perf)"
   ],
   "id": "f0189c2e2ed68fe1",
   "outputs": [],
   "execution_count": null
  },
  {
   "metadata": {},
   "cell_type": "code",
   "source": [
    "for dataset_name, dfs in zip(dataset_names, dfs_fairness):\n",
    "    df = aggregate_runs(dfs)\n",
    "    print(dataset_name)\n",
    "    display(df)\n",
    "    print('----------------------------------------------------------------')"
   ],
   "id": "25bb41560282a63e",
   "outputs": [],
   "execution_count": null
  },
  {
   "metadata": {},
   "cell_type": "code",
   "source": [
    "for dataset_name, dfs in zip(dataset_names, dfs_performance):\n",
    "    df = aggregate_runs(dfs)\n",
    "    print(dataset_name)\n",
    "    display(df)\n",
    "    print('----------------------------------------------------------------')"
   ],
   "id": "48b2d8fb62c0b046",
   "outputs": [],
   "execution_count": null
  },
  {
   "cell_type": "markdown",
   "source": [
    "# HFOS"
   ],
   "metadata": {
    "collapsed": false
   },
   "id": "351154fbbf0d54b0"
  },
  {
   "cell_type": "code",
   "source": [
    "import pandas as pd\n",
    "\n",
    "df_adult_fair = pd.read_csv('../results/hfos_adult_lr/fairness_only_cont_int_5.csv')\n",
    "df_adult_perf = pd.read_csv(\"../results/hfos_adult_lr/performance_only_cont_int_5.csv\")\n",
    "\n",
    "df_german_fair = pd.read_csv('../results/hfos_german_lr/fairness_only_cont_int_5.csv')\n",
    "df_german_perf = pd.read_csv(\"../results/hfos_german_lr/performance_only_cont_int_5.csv\")\n",
    "\n",
    "df_bank_fair = pd.read_csv('../results/hfos_bank_lr/fairness_only_cont_int_5.csv')\n",
    "df_bank_perf = pd.read_csv(\"../results/hfos_bank_lr/performance_only_cont_int_5.csv\")"
   ],
   "metadata": {
    "collapsed": true
   },
   "id": "initial_id",
   "outputs": [],
   "execution_count": null
  },
  {
   "cell_type": "code",
   "source": [
    "perf_train, perf_fair = calculate_mean_std(['adult', 'german', 'bank'], [df_adult_perf, df_german_perf, df_bank_perf])"
   ],
   "metadata": {
    "collapsed": false
   },
   "id": "e97aebc8b1b7a74d",
   "outputs": [],
   "execution_count": null
  },
  {
   "cell_type": "code",
   "source": [
    "perf_train"
   ],
   "metadata": {
    "collapsed": false
   },
   "id": "b2a2ccbe8579c8d1",
   "outputs": [],
   "execution_count": null
  },
  {
   "cell_type": "code",
   "source": [
    "perf_fair"
   ],
   "metadata": {
    "collapsed": false
   },
   "id": "a320b53f78d63b41",
   "outputs": [],
   "execution_count": null
  },
  {
   "cell_type": "code",
   "source": [
    "fair_train, fair_fair = calculate_mean_std(['adult', 'german', 'bank'], [df_adult_fair, df_german_fair, df_bank_fair])"
   ],
   "metadata": {
    "collapsed": false
   },
   "id": "208571d78e56c31",
   "outputs": [],
   "execution_count": null
  },
  {
   "cell_type": "code",
   "source": [
    "fair_train"
   ],
   "metadata": {
    "collapsed": false
   },
   "id": "1ff534286da985ee",
   "outputs": [],
   "execution_count": null
  },
  {
   "cell_type": "code",
   "source": [
    "fair_fair"
   ],
   "metadata": {
    "collapsed": false
   },
   "id": "40ce198f20965b4b",
   "outputs": [],
   "execution_count": null
  },
  {
   "cell_type": "markdown",
   "source": [
    "# FAWOS"
   ],
   "metadata": {
    "collapsed": false
   },
   "id": "2d9049b54d90b40a"
  },
  {
   "cell_type": "code",
   "source": [
    "df_german_fair = pd.read_csv('../results/fawos_german_lr/fairness_5.csv')\n",
    "df_german_perf = pd.read_csv(\"../results/fawos_german_lr/performance_5.csv\")"
   ],
   "metadata": {
    "collapsed": false
   },
   "id": "b2650bfde8847952",
   "outputs": [],
   "execution_count": null
  },
  {
   "cell_type": "code",
   "source": [
    "perf_train, perf_fair = calculate_mean_std(['german'], [df_bank_perf])"
   ],
   "metadata": {
    "collapsed": false
   },
   "id": "5c4f3f386e798d43",
   "outputs": [],
   "execution_count": null
  },
  {
   "cell_type": "code",
   "source": [
    "perf_train"
   ],
   "metadata": {
    "collapsed": false
   },
   "id": "fc44b265b9a45203",
   "outputs": [],
   "execution_count": null
  },
  {
   "cell_type": "code",
   "source": [
    "perf_fair"
   ],
   "metadata": {
    "collapsed": false
   },
   "id": "c92525248c1305ab",
   "outputs": [],
   "execution_count": null
  },
  {
   "cell_type": "code",
   "source": [
    "fair_train, fair_fair = calculate_mean_std(['german'], [df_german_fair])"
   ],
   "metadata": {
    "collapsed": false
   },
   "id": "59473fff4a68e7b",
   "outputs": [],
   "execution_count": null
  },
  {
   "cell_type": "code",
   "source": [
    "fair_train"
   ],
   "metadata": {
    "collapsed": false
   },
   "id": "5bacbfed4070816d",
   "outputs": [],
   "execution_count": null
  },
  {
   "cell_type": "code",
   "source": [
    "fair_fair"
   ],
   "metadata": {
    "collapsed": false
   },
   "id": "6277495af9ecdd46",
   "outputs": [],
   "execution_count": null
  },
  {
   "cell_type": "markdown",
   "source": [
    "# FOS"
   ],
   "metadata": {
    "collapsed": false
   },
   "id": "418a9e88a61cfe0e"
  },
  {
   "cell_type": "code",
   "source": [],
   "metadata": {
    "collapsed": false
   },
   "id": "f0359adb101f0d22",
   "outputs": [],
   "execution_count": null
  },
  {
   "cell_type": "markdown",
   "source": [
    "# FAWOS hyperparameters"
   ],
   "metadata": {
    "collapsed": false
   },
   "id": "962b986cdd15e267"
  },
  {
   "cell_type": "code",
   "source": [
    "def calculate_mean_std_tuning(df):\n",
    "    fair = []\n",
    "    \n",
    "    unique_values = df['weight'].unique().tolist()\n",
    "    for v in unique_values:\n",
    "        df_small = df[df['weight'] == v].drop(columns=['weight'])\n",
    "        df_small_mean = df_small.mean()\n",
    "        df_small_median = df_small.median()\n",
    "        df_small_std = df_small.std()\n",
    "        df_small_mean['dataset'] = v\n",
    "        df_small_median['dataset'] = v\n",
    "        df_small_std['dataset'] = v\n",
    "        df_small_mean['type'] = 'mean'\n",
    "        df_small_median['type'] = 'median'\n",
    "        df_small_std['type'] = 'std'\n",
    "        fair.append(df_small_mean.to_frame().T)\n",
    "        fair.append(df_small_median.to_frame().T)\n",
    "        fair.append(df_small_std.to_frame().T)\n",
    "    \n",
    "    fair = pd.concat(fair).reset_index(drop=True)\n",
    "    return fair"
   ],
   "metadata": {
    "collapsed": false
   },
   "id": "cb29cad561f0f669",
   "outputs": [],
   "execution_count": null
  },
  {
   "cell_type": "code",
   "source": [
    "df_fairness = pd.read_csv('../results/FAWOS_finetune/fairness.csv').drop(columns=['Unnamed: 0'])\n",
    "df_performance = pd.read_csv('../results/FAWOS_finetune/performance.csv').drop(columns=['Unnamed: 0'])"
   ],
   "metadata": {
    "collapsed": false
   },
   "id": "8eae1471e208fa6d",
   "outputs": [],
   "execution_count": null
  },
  {
   "cell_type": "code",
   "source": [
    "fair_aggr = calculate_mean_std_tuning(df_fairness)\n",
    "perf_aggr = calculate_mean_std_tuning(df_performance)"
   ],
   "metadata": {
    "collapsed": false
   },
   "id": "c56448fafd2fa2f8",
   "outputs": [],
   "execution_count": null
  },
  {
   "cell_type": "code",
   "source": [
    "fair_aggr"
   ],
   "metadata": {
    "collapsed": false
   },
   "id": "267c4efbcab0d0a8",
   "outputs": [],
   "execution_count": null
  },
  {
   "cell_type": "code",
   "source": [
    "perf_aggr"
   ],
   "metadata": {
    "collapsed": false
   },
   "id": "10abe8ed41833fde",
   "outputs": [],
   "execution_count": null
  },
  {
   "cell_type": "code",
   "source": [],
   "metadata": {
    "collapsed": false
   },
   "id": "4725def36d4babc2",
   "outputs": [],
   "execution_count": null
  }
 ],
 "metadata": {
  "kernelspec": {
   "display_name": "Python 3",
   "language": "python",
   "name": "python3"
  },
  "language_info": {
   "codemirror_mode": {
    "name": "ipython",
    "version": 2
   },
   "file_extension": ".py",
   "mimetype": "text/x-python",
   "name": "python",
   "nbconvert_exporter": "python",
   "pygments_lexer": "ipython2",
   "version": "2.7.6"
  }
 },
 "nbformat": 4,
 "nbformat_minor": 5
}
