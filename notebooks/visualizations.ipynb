{
 "cells": [
  {
   "cell_type": "code",
   "id": "initial_id",
   "metadata": {
    "collapsed": true
   },
   "source": [
    "from sklearn.datasets import make_classification, make_moons\n",
    "import numpy as np\n",
    "import seaborn as sns\n",
    "import matplotlib.pyplot as plt\n",
    "\n",
    "np.random.seed(42)\n",
    "\n",
    "X, y = make_classification(\n",
    "    n_features=2, n_redundant=0, n_informative=2, random_state=2137, n_clusters_per_class=2, weights=(0.2, 0.8)\n",
    ")\n",
    "# X, y = make_moons(noise=0.8, random_state=0)\n",
    "\n",
    "palette = sns.color_palette(\"deep\")\n",
    "\n",
    "# Extracting blue and orange colors\n",
    "blue = palette[0]\n",
    "orange = palette[1]\n",
    "\n",
    "plt.figure(figsize=(15, 4))\n",
    "\n",
    "plt.subplot(1, 3, 1)\n",
    "sns.kdeplot(x=X[y == 0][:,0], y=X[y == 0][:,1], cmap=sns.light_palette(orange, as_cmap=True), alpha=0.9, fill=True, levels=100, thresh=0.05, bw_adjust=0.9)\n",
    "sns.kdeplot(x=X[y == 1][:,0], y=X[y == 1][:,1], cmap=sns.light_palette(blue, as_cmap=True), alpha=0.9, fill=True, levels=100, thresh=0.05, bw_adjust=0.9)\n",
    "plt.scatter(x=X[y == 0][:,0], y=X[y == 0][:,1], color=orange, label='minority')\n",
    "plt.scatter(x=X[y == 1][:,0], y=X[y == 1][:,1], color=blue, label='majority')\n",
    "plt.legend()\n",
    "\n",
    "plt.subplot(1, 3, 2)\n",
    "sns.kdeplot(x=X[y == 0][:,0], y=X[y == 0][:,1], cmap=sns.light_palette(orange, as_cmap=True), alpha=0.9, fill=True, levels=100, thresh=0.05, bw_adjust=0.4)\n",
    "sns.kdeplot(x=X[y == 1][:,0], y=X[y == 1][:,1], cmap=sns.light_palette(blue, as_cmap=True), alpha=0.9, fill=True, levels=100, thresh=0.05, bw_adjust=0.4)\n",
    "plt.scatter(x=X[y == 0][:,0], y=X[y == 0][:,1], color=orange, label='minority')\n",
    "plt.scatter(x=X[y == 1][:,0], y=X[y == 1][:,1], color=blue, label='majority')\n",
    "#plt.legend()\n",
    "\n",
    "plt.subplot(1, 3, 3)\n",
    "sns.kdeplot(x=X[y == 0][:,0], y=X[y == 0][:,1], cmap=sns.light_palette(orange, as_cmap=True), alpha=0.9, fill=True, levels=100, thresh=0.05, bw_adjust=0.2)\n",
    "sns.kdeplot(x=X[y == 1][:,0], y=X[y == 1][:,1], cmap=sns.light_palette(blue, as_cmap=True), alpha=0.9, fill=True, levels=100, thresh=0.05, bw_adjust=0.2)\n",
    "plt.scatter(x=X[y == 0][:,0], y=X[y == 0][:,1], color=orange, label='minority')\n",
    "plt.scatter(x=X[y == 1][:,0], y=X[y == 1][:,1], color=blue, label='majority')\n",
    "#plt.legend()\n",
    "\n",
    "# Subplot 2\n",
    "\n",
    "plt.tight_layout()\n",
    "plt.savefig('rbf_density.pdf', format='pdf')\n",
    "plt.show()"
   ],
   "outputs": [],
   "execution_count": null
  },
  {
   "metadata": {},
   "cell_type": "code",
   "source": [
    "import numpy as np\n",
    "\n",
    "f1 = '/home/annprzy/msc/validation_multi/fair_rbh_adult_decision_tree/heom_0.05_0/2024-06-12/train_preds_0.npy'\n",
    "f2 = '/home/annprzy/msc/validation_multi/fair_rbh_adult_decision_tree/heom_0.05_1/2024-06-12/train_preds_0.npy'\n",
    "with open(f1, 'rb') as f:\n",
    "    f1 = np.load(f1)\n",
    "with open(f2, 'rb') as f:\n",
    "    f2 = np.load(f2)\n",
    "    \n",
    "for i, j in zip(f1, f2):\n",
    "    print(i, j)"
   ],
   "id": "1c6119048e318a6e",
   "outputs": [],
   "execution_count": null
  },
  {
   "metadata": {},
   "cell_type": "code",
   "source": [
    "import pandas as pd\n",
    "\n",
    "df1 = pd.read_csv('/home/annprzy/msc/validation/fos_heart_disease_decision_tree/heom/5/2024-06-12/train_0.csv').iloc[:, 1:]\n",
    "df2 = pd.read_csv('/home/annprzy/msc/validation/hfos_heart_disease_decision_tree/hvdm/5/2024-06-12/train_0.csv').iloc[: , 1:]\n",
    "\n",
    "# Compare dataframes\n",
    "diff = df1.compare(df2)\n",
    "\n",
    "# Print the differences\n",
    "print(\"Differences between file1 and file2:\")\n",
    "print(diff.shape)\n",
    "\n",
    "concat = pd.concat([df1, df2])\n",
    "concat = concat.drop_duplicates(keep=False)\n",
    "\n",
    "print(concat)\n"
   ],
   "id": "5dc005dafa65990a",
   "outputs": [],
   "execution_count": null
  },
  {
   "metadata": {},
   "cell_type": "code",
   "source": [
    "from src.experiments import init_dataset\n",
    "from sklearn.model_selection import StratifiedKFold, RepeatedStratifiedKFold\n",
    "\n",
    "dataset = init_dataset('german', 42, data_path='../data')\n",
    "iteration = 0\n",
    "\n",
    "kf = RepeatedStratifiedKFold(n_splits=2, n_repeats=5, random_state=42)\n",
    "dataset_train = dataset.data\n",
    "classes = dataset_train[dataset.target].to_list()\n",
    "group_class = dataset_train[dataset.sensitive].astype(int).astype(str).agg('-'.join, axis=1).to_list()\n",
    "group_class = ['_'.join([g, str(int(c))]) for g, c in zip(group_class, classes)]\n",
    "results = list(kf.split(dataset_train, group_class))[0]\n",
    "train_set, _ = results\n",
    "dataset_train_sample = dataset_train.iloc[train_set].reset_index(drop=True)\n",
    "kf = RepeatedStratifiedKFold(n_splits=2, n_repeats=5, random_state=42)\n",
    "group_class = [g for i, g in enumerate(group_class) if i in train_set]\n",
    "results = list(kf.split(dataset_train_sample, group_class))[iteration]\n",
    "train_set, test_set = results\n",
    "dataset.train = dataset_train_sample.iloc[train_set].reset_index(drop=True)\n",
    "dataset.test = dataset_train_sample.iloc[test_set].reset_index(drop=True)\n",
    "\n",
    "train2 = dataset.train"
   ],
   "id": "e7598dc83d78aa22",
   "outputs": [],
   "execution_count": null
  },
  {
   "metadata": {},
   "cell_type": "code",
   "source": [
    "from src.experiments import init_dataset\n",
    "from sklearn.model_selection import StratifiedKFold, RepeatedStratifiedKFold\n",
    "\n",
    "dataset = init_dataset('german', 42, data_path='../data')\n",
    "iteration = 0\n",
    "\n",
    "kf = RepeatedStratifiedKFold(n_splits=2, n_repeats=5, random_state=42)\n",
    "dataset_train = dataset.data\n",
    "classes = dataset_train[dataset.target].to_list()\n",
    "group_class = dataset_train[dataset.sensitive].astype(int).astype(str).agg('-'.join, axis=1).to_list()\n",
    "group_class = ['_'.join([g, str(int(c))]) for g, c in zip(group_class, classes)]\n",
    "results = list(kf.split(dataset_train, group_class))[0]\n",
    "train_set, _ = results\n",
    "dataset_train_sample = dataset_train.iloc[train_set].reset_index(drop=True)\n",
    "kf = RepeatedStratifiedKFold(n_splits=2, n_repeats=5, random_state=42)\n",
    "group_class = [g for i, g in enumerate(group_class) if i in train_set]\n",
    "results = list(kf.split(dataset_train_sample, group_class))[iteration]\n",
    "train_set, test_set = results\n",
    "dataset.train = dataset_train_sample.iloc[train_set].reset_index(drop=True)\n",
    "dataset.test = dataset_train_sample.iloc[test_set].reset_index(drop=True)\n",
    "\n",
    "train1 = dataset.train"
   ],
   "id": "abd63dfb805c7766",
   "outputs": [],
   "execution_count": null
  },
  {
   "metadata": {},
   "cell_type": "code",
   "source": [
    "diff = train1.compare(train2)\n",
    "diff"
   ],
   "id": "d23157dddd9d177c",
   "outputs": [],
   "execution_count": null
  },
  {
   "metadata": {},
   "cell_type": "code",
   "source": [
    "data_path = '../data/bank_marketing/bank.csv'\n",
    "\n",
    "data = pd.read_csv(data_path, sep=';')\n",
    "print(data.shape)\n",
    "data = data[~((data['age'] < 25) & (data['marital'] == 'married'))]\n",
    "print(data.shape)\n",
    "data.to_csv('../data/bank_marketing/bank_multi.csv', sep=';', index=False)"
   ],
   "id": "1f240f920e203794",
   "outputs": [],
   "execution_count": null
  },
  {
   "metadata": {},
   "cell_type": "code",
   "source": [
    "data_path = '../data/bank_marketing/bank_multi.csv'\n",
    "\n",
    "data = pd.read_csv(data_path, sep=';')\n",
    "data.head()"
   ],
   "id": "f2aa5b66b7ab8051",
   "outputs": [],
   "execution_count": null
  },
  {
   "metadata": {},
   "cell_type": "code",
   "source": "",
   "id": "da1b7a6a885fe63a",
   "outputs": [],
   "execution_count": null
  }
 ],
 "metadata": {
  "kernelspec": {
   "display_name": "Python 3",
   "language": "python",
   "name": "python3"
  },
  "language_info": {
   "codemirror_mode": {
    "name": "ipython",
    "version": 2
   },
   "file_extension": ".py",
   "mimetype": "text/x-python",
   "name": "python",
   "nbconvert_exporter": "python",
   "pygments_lexer": "ipython2",
   "version": "2.7.6"
  }
 },
 "nbformat": 4,
 "nbformat_minor": 5
}
