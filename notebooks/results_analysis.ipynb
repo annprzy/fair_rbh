{
 "cells": [
  {
   "cell_type": "code",
   "outputs": [],
   "source": [
    "def calculate_mean_std(df_names, dfs):\n",
    "    perf_train, perf_fair = [], []\n",
    "\n",
    "    for df_name, df in zip(df_names, dfs):\n",
    "        df_train = df[df['data'] == 'train_cont_ord_cat'].drop(columns=['data'])\n",
    "        df_fair = df[df['data'] == 'fair_cont_ord_cat'].drop(columns=['data'])\n",
    "        \n",
    "        df_train_mean = df_train.mean()\n",
    "        df_train_std = df_train.std()\n",
    "        df_train_median = df_train.median()\n",
    "        df_train_mean['dataset'] = df_name\n",
    "        df_train_std['dataset'] = df_name\n",
    "        df_train_median['dataset'] = df_name\n",
    "        df_train_mean['type'] = 'mean'\n",
    "        df_train_median['type'] = 'median'\n",
    "        df_train_std['type'] = 'std'\n",
    "        perf_train.append(df_train_mean.to_frame().T)\n",
    "        perf_train.append(df_train_median.to_frame().T)\n",
    "        perf_train.append(df_train_std.to_frame().T)\n",
    "        \n",
    "        df_fair_mean = df_fair.mean()\n",
    "        df_fair_median = df_fair.median()\n",
    "        df_fair_std = df_fair.std()\n",
    "        df_fair_mean['dataset'] = df_name\n",
    "        df_fair_median['dataset'] = df_name\n",
    "        df_fair_std['dataset'] = df_name\n",
    "        df_fair_mean['type'] = 'mean'\n",
    "        df_fair_median['type'] = 'median'\n",
    "        df_fair_std['type'] = 'std'\n",
    "        perf_fair.append(df_fair_mean.to_frame().T)\n",
    "        perf_fair.append(df_fair_median.to_frame().T)\n",
    "        perf_fair.append(df_fair_std.to_frame().T)\n",
    "    \n",
    "    perf_train = pd.concat(perf_train).reset_index(drop=True)\n",
    "    perf_fair = pd.concat(perf_fair).reset_index(drop=True)\n",
    "    return perf_train, perf_fair"
   ],
   "metadata": {
    "collapsed": false,
    "ExecuteTime": {
     "end_time": "2024-03-25T20:26:25.705102Z",
     "start_time": "2024-03-25T20:26:25.695556Z"
    }
   },
   "id": "f3bc2e6728c9b446",
   "execution_count": 1
  },
  {
   "cell_type": "markdown",
   "source": [
    "# HFOS"
   ],
   "metadata": {
    "collapsed": false
   },
   "id": "351154fbbf0d54b0"
  },
  {
   "cell_type": "code",
   "outputs": [],
   "source": [
    "import pandas as pd\n",
    "\n",
    "df_adult_fair = pd.read_csv('../results/hfos_adult_lr/fairness_only_cont_int_5.csv')\n",
    "df_adult_perf = pd.read_csv(\"../results/hfos_adult_lr/performance_only_cont_int_5.csv\")\n",
    "\n",
    "df_german_fair = pd.read_csv('../results/hfos_german_lr/fairness_only_cont_int_5.csv')\n",
    "df_german_perf = pd.read_csv(\"../results/hfos_german_lr/performance_only_cont_int_5.csv\")\n",
    "\n",
    "df_bank_fair = pd.read_csv('../results/hfos_bank_lr/fairness_only_cont_int_5.csv')\n",
    "df_bank_perf = pd.read_csv(\"../results/hfos_bank_lr/performance_only_cont_int_5.csv\")"
   ],
   "metadata": {
    "collapsed": true,
    "ExecuteTime": {
     "end_time": "2024-03-25T20:26:25.991663Z",
     "start_time": "2024-03-25T20:26:25.765148Z"
    }
   },
   "id": "initial_id",
   "execution_count": 2
  },
  {
   "cell_type": "code",
   "outputs": [],
   "source": [
    "perf_train, perf_fair = calculate_mean_std(['adult', 'german', 'bank'], [df_adult_perf, df_german_perf, df_bank_perf])"
   ],
   "metadata": {
    "collapsed": false,
    "ExecuteTime": {
     "end_time": "2024-03-25T20:26:26.013336Z",
     "start_time": "2024-03-25T20:26:25.992786Z"
    }
   },
   "id": "e97aebc8b1b7a74d",
   "execution_count": 3
  },
  {
   "cell_type": "code",
   "outputs": [
    {
     "data": {
      "text/plain": "   accuracy balanced_accuracy        f1     gmean dataset    type\n0  0.844732          0.762898  0.658594  0.745067   adult    mean\n1  0.843798          0.762012  0.658555  0.743291   adult  median\n2  0.003477          0.003949  0.004621  0.005682   adult     std\n3  0.727143          0.624989  0.818232  0.570086  german    mean\n4      0.74           0.63156  0.827815  0.577214  german  median\n5  0.027667          0.016897  0.023679  0.022371  german     std\n6  0.900857          0.646407  0.424949  0.554594    bank    mean\n7   0.90239          0.646318  0.423395  0.555497    bank  median\n8  0.004095          0.008984   0.01928  0.015577    bank     std",
      "text/html": "<div>\n<style scoped>\n    .dataframe tbody tr th:only-of-type {\n        vertical-align: middle;\n    }\n\n    .dataframe tbody tr th {\n        vertical-align: top;\n    }\n\n    .dataframe thead th {\n        text-align: right;\n    }\n</style>\n<table border=\"1\" class=\"dataframe\">\n  <thead>\n    <tr style=\"text-align: right;\">\n      <th></th>\n      <th>accuracy</th>\n      <th>balanced_accuracy</th>\n      <th>f1</th>\n      <th>gmean</th>\n      <th>dataset</th>\n      <th>type</th>\n    </tr>\n  </thead>\n  <tbody>\n    <tr>\n      <th>0</th>\n      <td>0.844732</td>\n      <td>0.762898</td>\n      <td>0.658594</td>\n      <td>0.745067</td>\n      <td>adult</td>\n      <td>mean</td>\n    </tr>\n    <tr>\n      <th>1</th>\n      <td>0.843798</td>\n      <td>0.762012</td>\n      <td>0.658555</td>\n      <td>0.743291</td>\n      <td>adult</td>\n      <td>median</td>\n    </tr>\n    <tr>\n      <th>2</th>\n      <td>0.003477</td>\n      <td>0.003949</td>\n      <td>0.004621</td>\n      <td>0.005682</td>\n      <td>adult</td>\n      <td>std</td>\n    </tr>\n    <tr>\n      <th>3</th>\n      <td>0.727143</td>\n      <td>0.624989</td>\n      <td>0.818232</td>\n      <td>0.570086</td>\n      <td>german</td>\n      <td>mean</td>\n    </tr>\n    <tr>\n      <th>4</th>\n      <td>0.74</td>\n      <td>0.63156</td>\n      <td>0.827815</td>\n      <td>0.577214</td>\n      <td>german</td>\n      <td>median</td>\n    </tr>\n    <tr>\n      <th>5</th>\n      <td>0.027667</td>\n      <td>0.016897</td>\n      <td>0.023679</td>\n      <td>0.022371</td>\n      <td>german</td>\n      <td>std</td>\n    </tr>\n    <tr>\n      <th>6</th>\n      <td>0.900857</td>\n      <td>0.646407</td>\n      <td>0.424949</td>\n      <td>0.554594</td>\n      <td>bank</td>\n      <td>mean</td>\n    </tr>\n    <tr>\n      <th>7</th>\n      <td>0.90239</td>\n      <td>0.646318</td>\n      <td>0.423395</td>\n      <td>0.555497</td>\n      <td>bank</td>\n      <td>median</td>\n    </tr>\n    <tr>\n      <th>8</th>\n      <td>0.004095</td>\n      <td>0.008984</td>\n      <td>0.01928</td>\n      <td>0.015577</td>\n      <td>bank</td>\n      <td>std</td>\n    </tr>\n  </tbody>\n</table>\n</div>"
     },
     "execution_count": 4,
     "metadata": {},
     "output_type": "execute_result"
    }
   ],
   "source": [
    "perf_train"
   ],
   "metadata": {
    "collapsed": false,
    "ExecuteTime": {
     "end_time": "2024-03-25T20:26:26.032980Z",
     "start_time": "2024-03-25T20:26:26.014324Z"
    }
   },
   "id": "b2a2ccbe8579c8d1",
   "execution_count": 4
  },
  {
   "cell_type": "code",
   "outputs": [
    {
     "data": {
      "text/plain": "   accuracy balanced_accuracy        f1     gmean dataset    type\n0  0.816274          0.770599  0.647913  0.763797   adult    mean\n1  0.819886          0.769126  0.652506  0.762179   adult  median\n2  0.007815          0.022136  0.025453  0.027609   adult     std\n3  0.684286          0.641737  0.768487  0.631191  german    mean\n4       0.7          0.652376  0.776978  0.632306  german  median\n5   0.04097           0.04403   0.03494  0.047648  german     std\n6  0.807152          0.733495  0.438007  0.724272    bank    mean\n7  0.822488          0.747121  0.452916  0.734867    bank  median\n8   0.04204          0.031528  0.041257  0.041032    bank     std",
      "text/html": "<div>\n<style scoped>\n    .dataframe tbody tr th:only-of-type {\n        vertical-align: middle;\n    }\n\n    .dataframe tbody tr th {\n        vertical-align: top;\n    }\n\n    .dataframe thead th {\n        text-align: right;\n    }\n</style>\n<table border=\"1\" class=\"dataframe\">\n  <thead>\n    <tr style=\"text-align: right;\">\n      <th></th>\n      <th>accuracy</th>\n      <th>balanced_accuracy</th>\n      <th>f1</th>\n      <th>gmean</th>\n      <th>dataset</th>\n      <th>type</th>\n    </tr>\n  </thead>\n  <tbody>\n    <tr>\n      <th>0</th>\n      <td>0.816274</td>\n      <td>0.770599</td>\n      <td>0.647913</td>\n      <td>0.763797</td>\n      <td>adult</td>\n      <td>mean</td>\n    </tr>\n    <tr>\n      <th>1</th>\n      <td>0.819886</td>\n      <td>0.769126</td>\n      <td>0.652506</td>\n      <td>0.762179</td>\n      <td>adult</td>\n      <td>median</td>\n    </tr>\n    <tr>\n      <th>2</th>\n      <td>0.007815</td>\n      <td>0.022136</td>\n      <td>0.025453</td>\n      <td>0.027609</td>\n      <td>adult</td>\n      <td>std</td>\n    </tr>\n    <tr>\n      <th>3</th>\n      <td>0.684286</td>\n      <td>0.641737</td>\n      <td>0.768487</td>\n      <td>0.631191</td>\n      <td>german</td>\n      <td>mean</td>\n    </tr>\n    <tr>\n      <th>4</th>\n      <td>0.7</td>\n      <td>0.652376</td>\n      <td>0.776978</td>\n      <td>0.632306</td>\n      <td>german</td>\n      <td>median</td>\n    </tr>\n    <tr>\n      <th>5</th>\n      <td>0.04097</td>\n      <td>0.04403</td>\n      <td>0.03494</td>\n      <td>0.047648</td>\n      <td>german</td>\n      <td>std</td>\n    </tr>\n    <tr>\n      <th>6</th>\n      <td>0.807152</td>\n      <td>0.733495</td>\n      <td>0.438007</td>\n      <td>0.724272</td>\n      <td>bank</td>\n      <td>mean</td>\n    </tr>\n    <tr>\n      <th>7</th>\n      <td>0.822488</td>\n      <td>0.747121</td>\n      <td>0.452916</td>\n      <td>0.734867</td>\n      <td>bank</td>\n      <td>median</td>\n    </tr>\n    <tr>\n      <th>8</th>\n      <td>0.04204</td>\n      <td>0.031528</td>\n      <td>0.041257</td>\n      <td>0.041032</td>\n      <td>bank</td>\n      <td>std</td>\n    </tr>\n  </tbody>\n</table>\n</div>"
     },
     "execution_count": 5,
     "metadata": {},
     "output_type": "execute_result"
    }
   ],
   "source": [
    "perf_fair"
   ],
   "metadata": {
    "collapsed": false,
    "ExecuteTime": {
     "end_time": "2024-03-25T20:26:26.040252Z",
     "start_time": "2024-03-25T20:26:26.034252Z"
    }
   },
   "id": "a320b53f78d63b41",
   "execution_count": 5
  },
  {
   "cell_type": "code",
   "outputs": [],
   "source": [
    "fair_train, fair_fair = calculate_mean_std(['adult', 'german', 'bank'], [df_adult_fair, df_german_fair, df_bank_fair])"
   ],
   "metadata": {
    "collapsed": false,
    "ExecuteTime": {
     "end_time": "2024-03-25T20:26:26.060864Z",
     "start_time": "2024-03-25T20:26:26.041064Z"
    }
   },
   "id": "208571d78e56c31",
   "execution_count": 6
  },
  {
   "cell_type": "code",
   "outputs": [
    {
     "data": {
      "text/plain": "  statistical_parity equal_opportunity average_odds average_absolute_odds  \\\n0           0.105636         -0.080736     0.061109              0.061109   \n1           0.106311          -0.08253     0.060943              0.060943   \n2           0.010173          0.032679     0.015775              0.015775   \n3           0.069782         -0.051006     0.053745              0.090434   \n4           0.088093         -0.050691     0.082846              0.085362   \n5           0.082565          0.073148     0.097169              0.057229   \n6           0.112382         -0.126814     0.089317              0.089317   \n7           0.122251         -0.133342      0.09544               0.09544   \n8           0.022144          0.068876     0.038038              0.038038   \n\n  disparate_impact adapted_disparate_impact dataset    type  \n0         0.523412                 0.523412   adult    mean  \n1         0.512991                 0.512991   adult  median  \n2         0.038465                 0.038465   adult     std  \n3         0.915191                 0.891301  german    mean  \n4         0.890501                 0.890501  german  median  \n5         0.100041                 0.067565  german     std  \n6         0.330847                 0.330847    bank    mean  \n7         0.311355                 0.311355    bank  median  \n8         0.059947                 0.059947    bank     std  ",
      "text/html": "<div>\n<style scoped>\n    .dataframe tbody tr th:only-of-type {\n        vertical-align: middle;\n    }\n\n    .dataframe tbody tr th {\n        vertical-align: top;\n    }\n\n    .dataframe thead th {\n        text-align: right;\n    }\n</style>\n<table border=\"1\" class=\"dataframe\">\n  <thead>\n    <tr style=\"text-align: right;\">\n      <th></th>\n      <th>statistical_parity</th>\n      <th>equal_opportunity</th>\n      <th>average_odds</th>\n      <th>average_absolute_odds</th>\n      <th>disparate_impact</th>\n      <th>adapted_disparate_impact</th>\n      <th>dataset</th>\n      <th>type</th>\n    </tr>\n  </thead>\n  <tbody>\n    <tr>\n      <th>0</th>\n      <td>0.105636</td>\n      <td>-0.080736</td>\n      <td>0.061109</td>\n      <td>0.061109</td>\n      <td>0.523412</td>\n      <td>0.523412</td>\n      <td>adult</td>\n      <td>mean</td>\n    </tr>\n    <tr>\n      <th>1</th>\n      <td>0.106311</td>\n      <td>-0.08253</td>\n      <td>0.060943</td>\n      <td>0.060943</td>\n      <td>0.512991</td>\n      <td>0.512991</td>\n      <td>adult</td>\n      <td>median</td>\n    </tr>\n    <tr>\n      <th>2</th>\n      <td>0.010173</td>\n      <td>0.032679</td>\n      <td>0.015775</td>\n      <td>0.015775</td>\n      <td>0.038465</td>\n      <td>0.038465</td>\n      <td>adult</td>\n      <td>std</td>\n    </tr>\n    <tr>\n      <th>3</th>\n      <td>0.069782</td>\n      <td>-0.051006</td>\n      <td>0.053745</td>\n      <td>0.090434</td>\n      <td>0.915191</td>\n      <td>0.891301</td>\n      <td>german</td>\n      <td>mean</td>\n    </tr>\n    <tr>\n      <th>4</th>\n      <td>0.088093</td>\n      <td>-0.050691</td>\n      <td>0.082846</td>\n      <td>0.085362</td>\n      <td>0.890501</td>\n      <td>0.890501</td>\n      <td>german</td>\n      <td>median</td>\n    </tr>\n    <tr>\n      <th>5</th>\n      <td>0.082565</td>\n      <td>0.073148</td>\n      <td>0.097169</td>\n      <td>0.057229</td>\n      <td>0.100041</td>\n      <td>0.067565</td>\n      <td>german</td>\n      <td>std</td>\n    </tr>\n    <tr>\n      <th>6</th>\n      <td>0.112382</td>\n      <td>-0.126814</td>\n      <td>0.089317</td>\n      <td>0.089317</td>\n      <td>0.330847</td>\n      <td>0.330847</td>\n      <td>bank</td>\n      <td>mean</td>\n    </tr>\n    <tr>\n      <th>7</th>\n      <td>0.122251</td>\n      <td>-0.133342</td>\n      <td>0.09544</td>\n      <td>0.09544</td>\n      <td>0.311355</td>\n      <td>0.311355</td>\n      <td>bank</td>\n      <td>median</td>\n    </tr>\n    <tr>\n      <th>8</th>\n      <td>0.022144</td>\n      <td>0.068876</td>\n      <td>0.038038</td>\n      <td>0.038038</td>\n      <td>0.059947</td>\n      <td>0.059947</td>\n      <td>bank</td>\n      <td>std</td>\n    </tr>\n  </tbody>\n</table>\n</div>"
     },
     "execution_count": 7,
     "metadata": {},
     "output_type": "execute_result"
    }
   ],
   "source": [
    "fair_train"
   ],
   "metadata": {
    "collapsed": false,
    "ExecuteTime": {
     "end_time": "2024-03-25T20:26:26.068409Z",
     "start_time": "2024-03-25T20:26:26.061765Z"
    }
   },
   "id": "1ff534286da985ee",
   "execution_count": 7
  },
  {
   "cell_type": "code",
   "outputs": [
    {
     "data": {
      "text/plain": "  statistical_parity equal_opportunity average_odds average_absolute_odds  \\\n0          -0.023203            0.1575    -0.112846              0.149007   \n1          -0.007042           0.14391    -0.103472              0.114527   \n2           0.127968          0.171817     0.137942              0.090349   \n3           0.130876         -0.121212     0.107342              0.221797   \n4           0.154416         -0.134386     0.124658              0.222688   \n5           0.244426          0.202711     0.251851              0.142052   \n6           0.285128         -0.168256     0.203018              0.203018   \n7           0.235401         -0.100962     0.164811              0.164811   \n8           0.224469          0.168464     0.209667              0.209667   \n\n  disparate_impact adapted_disparate_impact dataset    type  \n0         1.173751                 0.719806   adult    mean  \n1         1.023997                 0.742043   adult  median  \n2         0.519963                 0.208151   adult     std  \n3         0.835658                 0.722084  german    mean  \n4         0.776768                 0.757576  german  median  \n5         0.329468                 0.205908  german     std  \n6         0.487265                 0.487265    bank    mean  \n7         0.544632                 0.544632    bank  median  \n8         0.169916                 0.169916    bank     std  ",
      "text/html": "<div>\n<style scoped>\n    .dataframe tbody tr th:only-of-type {\n        vertical-align: middle;\n    }\n\n    .dataframe tbody tr th {\n        vertical-align: top;\n    }\n\n    .dataframe thead th {\n        text-align: right;\n    }\n</style>\n<table border=\"1\" class=\"dataframe\">\n  <thead>\n    <tr style=\"text-align: right;\">\n      <th></th>\n      <th>statistical_parity</th>\n      <th>equal_opportunity</th>\n      <th>average_odds</th>\n      <th>average_absolute_odds</th>\n      <th>disparate_impact</th>\n      <th>adapted_disparate_impact</th>\n      <th>dataset</th>\n      <th>type</th>\n    </tr>\n  </thead>\n  <tbody>\n    <tr>\n      <th>0</th>\n      <td>-0.023203</td>\n      <td>0.1575</td>\n      <td>-0.112846</td>\n      <td>0.149007</td>\n      <td>1.173751</td>\n      <td>0.719806</td>\n      <td>adult</td>\n      <td>mean</td>\n    </tr>\n    <tr>\n      <th>1</th>\n      <td>-0.007042</td>\n      <td>0.14391</td>\n      <td>-0.103472</td>\n      <td>0.114527</td>\n      <td>1.023997</td>\n      <td>0.742043</td>\n      <td>adult</td>\n      <td>median</td>\n    </tr>\n    <tr>\n      <th>2</th>\n      <td>0.127968</td>\n      <td>0.171817</td>\n      <td>0.137942</td>\n      <td>0.090349</td>\n      <td>0.519963</td>\n      <td>0.208151</td>\n      <td>adult</td>\n      <td>std</td>\n    </tr>\n    <tr>\n      <th>3</th>\n      <td>0.130876</td>\n      <td>-0.121212</td>\n      <td>0.107342</td>\n      <td>0.221797</td>\n      <td>0.835658</td>\n      <td>0.722084</td>\n      <td>german</td>\n      <td>mean</td>\n    </tr>\n    <tr>\n      <th>4</th>\n      <td>0.154416</td>\n      <td>-0.134386</td>\n      <td>0.124658</td>\n      <td>0.222688</td>\n      <td>0.776768</td>\n      <td>0.757576</td>\n      <td>german</td>\n      <td>median</td>\n    </tr>\n    <tr>\n      <th>5</th>\n      <td>0.244426</td>\n      <td>0.202711</td>\n      <td>0.251851</td>\n      <td>0.142052</td>\n      <td>0.329468</td>\n      <td>0.205908</td>\n      <td>german</td>\n      <td>std</td>\n    </tr>\n    <tr>\n      <th>6</th>\n      <td>0.285128</td>\n      <td>-0.168256</td>\n      <td>0.203018</td>\n      <td>0.203018</td>\n      <td>0.487265</td>\n      <td>0.487265</td>\n      <td>bank</td>\n      <td>mean</td>\n    </tr>\n    <tr>\n      <th>7</th>\n      <td>0.235401</td>\n      <td>-0.100962</td>\n      <td>0.164811</td>\n      <td>0.164811</td>\n      <td>0.544632</td>\n      <td>0.544632</td>\n      <td>bank</td>\n      <td>median</td>\n    </tr>\n    <tr>\n      <th>8</th>\n      <td>0.224469</td>\n      <td>0.168464</td>\n      <td>0.209667</td>\n      <td>0.209667</td>\n      <td>0.169916</td>\n      <td>0.169916</td>\n      <td>bank</td>\n      <td>std</td>\n    </tr>\n  </tbody>\n</table>\n</div>"
     },
     "execution_count": 8,
     "metadata": {},
     "output_type": "execute_result"
    }
   ],
   "source": [
    "fair_fair"
   ],
   "metadata": {
    "collapsed": false,
    "ExecuteTime": {
     "end_time": "2024-03-25T20:26:26.075664Z",
     "start_time": "2024-03-25T20:26:26.069484Z"
    }
   },
   "id": "40ce198f20965b4b",
   "execution_count": 8
  },
  {
   "cell_type": "markdown",
   "source": [
    "# FAWOS"
   ],
   "metadata": {
    "collapsed": false
   },
   "id": "2d9049b54d90b40a"
  },
  {
   "cell_type": "code",
   "outputs": [],
   "source": [
    "df_german_fair = pd.read_csv('../results/fawos_german_lr/fairness_5.csv')\n",
    "df_german_perf = pd.read_csv(\"../results/fawos_german_lr/performance_5.csv\")"
   ],
   "metadata": {
    "collapsed": false,
    "ExecuteTime": {
     "end_time": "2024-03-25T20:26:26.081573Z",
     "start_time": "2024-03-25T20:26:26.076862Z"
    }
   },
   "id": "b2650bfde8847952",
   "execution_count": 9
  },
  {
   "cell_type": "code",
   "outputs": [],
   "source": [
    "perf_train, perf_fair = calculate_mean_std(['german'], [df_bank_perf])"
   ],
   "metadata": {
    "collapsed": false,
    "ExecuteTime": {
     "end_time": "2024-03-25T20:26:26.091692Z",
     "start_time": "2024-03-25T20:26:26.082576Z"
    }
   },
   "id": "5c4f3f386e798d43",
   "execution_count": 10
  },
  {
   "cell_type": "code",
   "outputs": [
    {
     "data": {
      "text/plain": "   accuracy balanced_accuracy        f1     gmean dataset    type\n0  0.900857          0.646407  0.424949  0.554594  german    mean\n1   0.90239          0.646318  0.423395  0.555497  german  median\n2  0.004095          0.008984   0.01928  0.015577  german     std",
      "text/html": "<div>\n<style scoped>\n    .dataframe tbody tr th:only-of-type {\n        vertical-align: middle;\n    }\n\n    .dataframe tbody tr th {\n        vertical-align: top;\n    }\n\n    .dataframe thead th {\n        text-align: right;\n    }\n</style>\n<table border=\"1\" class=\"dataframe\">\n  <thead>\n    <tr style=\"text-align: right;\">\n      <th></th>\n      <th>accuracy</th>\n      <th>balanced_accuracy</th>\n      <th>f1</th>\n      <th>gmean</th>\n      <th>dataset</th>\n      <th>type</th>\n    </tr>\n  </thead>\n  <tbody>\n    <tr>\n      <th>0</th>\n      <td>0.900857</td>\n      <td>0.646407</td>\n      <td>0.424949</td>\n      <td>0.554594</td>\n      <td>german</td>\n      <td>mean</td>\n    </tr>\n    <tr>\n      <th>1</th>\n      <td>0.90239</td>\n      <td>0.646318</td>\n      <td>0.423395</td>\n      <td>0.555497</td>\n      <td>german</td>\n      <td>median</td>\n    </tr>\n    <tr>\n      <th>2</th>\n      <td>0.004095</td>\n      <td>0.008984</td>\n      <td>0.01928</td>\n      <td>0.015577</td>\n      <td>german</td>\n      <td>std</td>\n    </tr>\n  </tbody>\n</table>\n</div>"
     },
     "execution_count": 11,
     "metadata": {},
     "output_type": "execute_result"
    }
   ],
   "source": [
    "perf_train"
   ],
   "metadata": {
    "collapsed": false,
    "ExecuteTime": {
     "end_time": "2024-03-25T20:26:26.099775Z",
     "start_time": "2024-03-25T20:26:26.094020Z"
    }
   },
   "id": "fc44b265b9a45203",
   "execution_count": 11
  },
  {
   "cell_type": "code",
   "outputs": [
    {
     "data": {
      "text/plain": "   accuracy balanced_accuracy        f1     gmean dataset    type\n0  0.807152          0.733495  0.438007  0.724272  german    mean\n1  0.822488          0.747121  0.452916  0.734867  german  median\n2   0.04204          0.031528  0.041257  0.041032  german     std",
      "text/html": "<div>\n<style scoped>\n    .dataframe tbody tr th:only-of-type {\n        vertical-align: middle;\n    }\n\n    .dataframe tbody tr th {\n        vertical-align: top;\n    }\n\n    .dataframe thead th {\n        text-align: right;\n    }\n</style>\n<table border=\"1\" class=\"dataframe\">\n  <thead>\n    <tr style=\"text-align: right;\">\n      <th></th>\n      <th>accuracy</th>\n      <th>balanced_accuracy</th>\n      <th>f1</th>\n      <th>gmean</th>\n      <th>dataset</th>\n      <th>type</th>\n    </tr>\n  </thead>\n  <tbody>\n    <tr>\n      <th>0</th>\n      <td>0.807152</td>\n      <td>0.733495</td>\n      <td>0.438007</td>\n      <td>0.724272</td>\n      <td>german</td>\n      <td>mean</td>\n    </tr>\n    <tr>\n      <th>1</th>\n      <td>0.822488</td>\n      <td>0.747121</td>\n      <td>0.452916</td>\n      <td>0.734867</td>\n      <td>german</td>\n      <td>median</td>\n    </tr>\n    <tr>\n      <th>2</th>\n      <td>0.04204</td>\n      <td>0.031528</td>\n      <td>0.041257</td>\n      <td>0.041032</td>\n      <td>german</td>\n      <td>std</td>\n    </tr>\n  </tbody>\n</table>\n</div>"
     },
     "execution_count": 12,
     "metadata": {},
     "output_type": "execute_result"
    }
   ],
   "source": [
    "perf_fair"
   ],
   "metadata": {
    "collapsed": false,
    "ExecuteTime": {
     "end_time": "2024-03-25T20:26:26.105376Z",
     "start_time": "2024-03-25T20:26:26.100602Z"
    }
   },
   "id": "c92525248c1305ab",
   "execution_count": 12
  },
  {
   "cell_type": "code",
   "outputs": [],
   "source": [
    "fair_train, fair_fair = calculate_mean_std(['german'], [df_german_fair])"
   ],
   "metadata": {
    "collapsed": false,
    "ExecuteTime": {
     "end_time": "2024-03-25T20:26:26.115658Z",
     "start_time": "2024-03-25T20:26:26.106115Z"
    }
   },
   "id": "59473fff4a68e7b",
   "execution_count": 13
  },
  {
   "cell_type": "code",
   "outputs": [
    {
     "data": {
      "text/plain": "  statistical_parity equal_opportunity average_odds average_absolute_odds  \\\n0           0.069782         -0.051006     0.053745              0.090434   \n1           0.088093         -0.050691     0.082846              0.085362   \n2           0.082565          0.073148     0.097169              0.057229   \n\n  disparate_impact adapted_disparate_impact dataset    type  \n0         0.915191                 0.891301  german    mean  \n1         0.890501                 0.890501  german  median  \n2         0.100041                 0.067565  german     std  ",
      "text/html": "<div>\n<style scoped>\n    .dataframe tbody tr th:only-of-type {\n        vertical-align: middle;\n    }\n\n    .dataframe tbody tr th {\n        vertical-align: top;\n    }\n\n    .dataframe thead th {\n        text-align: right;\n    }\n</style>\n<table border=\"1\" class=\"dataframe\">\n  <thead>\n    <tr style=\"text-align: right;\">\n      <th></th>\n      <th>statistical_parity</th>\n      <th>equal_opportunity</th>\n      <th>average_odds</th>\n      <th>average_absolute_odds</th>\n      <th>disparate_impact</th>\n      <th>adapted_disparate_impact</th>\n      <th>dataset</th>\n      <th>type</th>\n    </tr>\n  </thead>\n  <tbody>\n    <tr>\n      <th>0</th>\n      <td>0.069782</td>\n      <td>-0.051006</td>\n      <td>0.053745</td>\n      <td>0.090434</td>\n      <td>0.915191</td>\n      <td>0.891301</td>\n      <td>german</td>\n      <td>mean</td>\n    </tr>\n    <tr>\n      <th>1</th>\n      <td>0.088093</td>\n      <td>-0.050691</td>\n      <td>0.082846</td>\n      <td>0.085362</td>\n      <td>0.890501</td>\n      <td>0.890501</td>\n      <td>german</td>\n      <td>median</td>\n    </tr>\n    <tr>\n      <th>2</th>\n      <td>0.082565</td>\n      <td>0.073148</td>\n      <td>0.097169</td>\n      <td>0.057229</td>\n      <td>0.100041</td>\n      <td>0.067565</td>\n      <td>german</td>\n      <td>std</td>\n    </tr>\n  </tbody>\n</table>\n</div>"
     },
     "execution_count": 14,
     "metadata": {},
     "output_type": "execute_result"
    }
   ],
   "source": [
    "fair_train"
   ],
   "metadata": {
    "collapsed": false,
    "ExecuteTime": {
     "end_time": "2024-03-25T20:26:26.122706Z",
     "start_time": "2024-03-25T20:26:26.116841Z"
    }
   },
   "id": "5bacbfed4070816d",
   "execution_count": 14
  },
  {
   "cell_type": "code",
   "outputs": [
    {
     "data": {
      "text/plain": "  statistical_parity equal_opportunity average_odds average_absolute_odds  \\\n0           0.003954         -0.004284    -0.023581              0.060665   \n1           0.016632         -0.002976     -0.00557              0.053389   \n2           0.067389          0.041829      0.07633              0.047985   \n\n  disparate_impact adapted_disparate_impact dataset    type  \n0          0.99549                 0.941686  german    mean  \n1         0.979823                 0.933333  german  median  \n2         0.080577                 0.043699  german     std  ",
      "text/html": "<div>\n<style scoped>\n    .dataframe tbody tr th:only-of-type {\n        vertical-align: middle;\n    }\n\n    .dataframe tbody tr th {\n        vertical-align: top;\n    }\n\n    .dataframe thead th {\n        text-align: right;\n    }\n</style>\n<table border=\"1\" class=\"dataframe\">\n  <thead>\n    <tr style=\"text-align: right;\">\n      <th></th>\n      <th>statistical_parity</th>\n      <th>equal_opportunity</th>\n      <th>average_odds</th>\n      <th>average_absolute_odds</th>\n      <th>disparate_impact</th>\n      <th>adapted_disparate_impact</th>\n      <th>dataset</th>\n      <th>type</th>\n    </tr>\n  </thead>\n  <tbody>\n    <tr>\n      <th>0</th>\n      <td>0.003954</td>\n      <td>-0.004284</td>\n      <td>-0.023581</td>\n      <td>0.060665</td>\n      <td>0.99549</td>\n      <td>0.941686</td>\n      <td>german</td>\n      <td>mean</td>\n    </tr>\n    <tr>\n      <th>1</th>\n      <td>0.016632</td>\n      <td>-0.002976</td>\n      <td>-0.00557</td>\n      <td>0.053389</td>\n      <td>0.979823</td>\n      <td>0.933333</td>\n      <td>german</td>\n      <td>median</td>\n    </tr>\n    <tr>\n      <th>2</th>\n      <td>0.067389</td>\n      <td>0.041829</td>\n      <td>0.07633</td>\n      <td>0.047985</td>\n      <td>0.080577</td>\n      <td>0.043699</td>\n      <td>german</td>\n      <td>std</td>\n    </tr>\n  </tbody>\n</table>\n</div>"
     },
     "execution_count": 15,
     "metadata": {},
     "output_type": "execute_result"
    }
   ],
   "source": [
    "fair_fair"
   ],
   "metadata": {
    "collapsed": false,
    "ExecuteTime": {
     "end_time": "2024-03-25T20:26:26.129530Z",
     "start_time": "2024-03-25T20:26:26.123625Z"
    }
   },
   "id": "6277495af9ecdd46",
   "execution_count": 15
  },
  {
   "cell_type": "markdown",
   "source": [
    "# FOS"
   ],
   "metadata": {
    "collapsed": false
   },
   "id": "418a9e88a61cfe0e"
  },
  {
   "cell_type": "code",
   "outputs": [],
   "source": [],
   "metadata": {
    "collapsed": false
   },
   "id": "f0359adb101f0d22"
  },
  {
   "cell_type": "markdown",
   "source": [
    "# FAWOS hyperparameters"
   ],
   "metadata": {
    "collapsed": false
   },
   "id": "962b986cdd15e267"
  },
  {
   "cell_type": "code",
   "outputs": [],
   "source": [
    "def calculate_mean_std_tuning(df):\n",
    "    fair = []\n",
    "    \n",
    "    unique_values = df['weight'].unique().tolist()\n",
    "    for v in unique_values:\n",
    "        df_small = df[df['weight'] == v].drop(columns=['weight'])\n",
    "        df_small_mean = df_small.mean()\n",
    "        df_small_median = df_small.median()\n",
    "        df_small_std = df_small.std()\n",
    "        df_small_mean['dataset'] = v\n",
    "        df_small_median['dataset'] = v\n",
    "        df_small_std['dataset'] = v\n",
    "        df_small_mean['type'] = 'mean'\n",
    "        df_small_median['type'] = 'median'\n",
    "        df_small_std['type'] = 'std'\n",
    "        fair.append(df_small_mean.to_frame().T)\n",
    "        fair.append(df_small_median.to_frame().T)\n",
    "        fair.append(df_small_std.to_frame().T)\n",
    "    \n",
    "    fair = pd.concat(fair).reset_index(drop=True)\n",
    "    return fair"
   ],
   "metadata": {
    "collapsed": false,
    "ExecuteTime": {
     "end_time": "2024-03-25T20:26:26.134021Z",
     "start_time": "2024-03-25T20:26:26.130451Z"
    }
   },
   "id": "cb29cad561f0f669",
   "execution_count": 16
  },
  {
   "cell_type": "code",
   "outputs": [],
   "source": [
    "df_fairness = pd.read_csv('../results/FAWOS_finetune/fairness.csv').drop(columns=['Unnamed: 0'])\n",
    "df_performance = pd.read_csv('../results/FAWOS_finetune/performance.csv').drop(columns=['Unnamed: 0'])"
   ],
   "metadata": {
    "collapsed": false,
    "ExecuteTime": {
     "end_time": "2024-03-25T20:26:26.139043Z",
     "start_time": "2024-03-25T20:26:26.134728Z"
    }
   },
   "id": "8eae1471e208fa6d",
   "execution_count": 17
  },
  {
   "cell_type": "code",
   "outputs": [],
   "source": [
    "fair_aggr = calculate_mean_std_tuning(df_fairness)\n",
    "perf_aggr = calculate_mean_std_tuning(df_performance)"
   ],
   "metadata": {
    "collapsed": false,
    "ExecuteTime": {
     "end_time": "2024-03-25T20:26:26.175819Z",
     "start_time": "2024-03-25T20:26:26.140119Z"
    }
   },
   "id": "c56448fafd2fa2f8",
   "execution_count": 18
  },
  {
   "cell_type": "code",
   "outputs": [
    {
     "data": {
      "text/plain": "   statistical_parity equal_opportunity average_odds average_absolute_odds  \\\n0            0.025679          0.008701     0.011041              0.078385   \n1            0.027706           0.01969     0.054181              0.077398   \n2            0.068507          0.043919     0.085512              0.023412   \n3            0.029361         -0.006526      0.00908              0.079151   \n4            0.055411          -0.01552     0.066758              0.078286   \n5            0.068622          0.042232      0.08857              0.010794   \n6            0.029409          0.005348     0.014288              0.083905   \n7            0.027706           0.01969     0.054181              0.078753   \n8            0.074443           0.05459     0.090762              0.021368   \n9            0.048477         -0.004176     0.038162              0.089912   \n10           0.037229          0.008292     0.061644              0.069935   \n11           0.093648          0.072826     0.105574               0.05598   \n\n   disparate_impact adapted_disparate_impact  \\\n0          0.971108                 0.936094   \n1          0.965775                  0.92381   \n2          0.077686                 0.041522   \n3          0.967029                 0.926568   \n4          0.932347                 0.932347   \n5          0.078871                 0.026533   \n6          0.966873                 0.926412   \n7          0.965775                 0.944805   \n8          0.085977                 0.043124   \n9          0.944381                 0.913126   \n10         0.954545                 0.954545   \n11         0.109159                 0.079282   \n\n                                             dataset    type  \n0        {'safe': 0, 'borderline': 0.4, 'rare': 0.6}    mean  \n1        {'safe': 0, 'borderline': 0.4, 'rare': 0.6}  median  \n2        {'safe': 0, 'borderline': 0.4, 'rare': 0.6}     std  \n3        {'safe': 0, 'borderline': 0.5, 'rare': 0.5}    mean  \n4        {'safe': 0, 'borderline': 0.5, 'rare': 0.5}  median  \n5        {'safe': 0, 'borderline': 0.5, 'rare': 0.5}     std  \n6        {'safe': 0, 'borderline': 0.6, 'rare': 0.4}    mean  \n7        {'safe': 0, 'borderline': 0.6, 'rare': 0.4}  median  \n8        {'safe': 0, 'borderline': 0.6, 'rare': 0.4}     std  \n9   {'safe': 0.33, 'borderline': 0.33, 'rare': 0.33}    mean  \n10  {'safe': 0.33, 'borderline': 0.33, 'rare': 0.33}  median  \n11  {'safe': 0.33, 'borderline': 0.33, 'rare': 0.33}     std  ",
      "text/html": "<div>\n<style scoped>\n    .dataframe tbody tr th:only-of-type {\n        vertical-align: middle;\n    }\n\n    .dataframe tbody tr th {\n        vertical-align: top;\n    }\n\n    .dataframe thead th {\n        text-align: right;\n    }\n</style>\n<table border=\"1\" class=\"dataframe\">\n  <thead>\n    <tr style=\"text-align: right;\">\n      <th></th>\n      <th>statistical_parity</th>\n      <th>equal_opportunity</th>\n      <th>average_odds</th>\n      <th>average_absolute_odds</th>\n      <th>disparate_impact</th>\n      <th>adapted_disparate_impact</th>\n      <th>dataset</th>\n      <th>type</th>\n    </tr>\n  </thead>\n  <tbody>\n    <tr>\n      <th>0</th>\n      <td>0.025679</td>\n      <td>0.008701</td>\n      <td>0.011041</td>\n      <td>0.078385</td>\n      <td>0.971108</td>\n      <td>0.936094</td>\n      <td>{'safe': 0, 'borderline': 0.4, 'rare': 0.6}</td>\n      <td>mean</td>\n    </tr>\n    <tr>\n      <th>1</th>\n      <td>0.027706</td>\n      <td>0.01969</td>\n      <td>0.054181</td>\n      <td>0.077398</td>\n      <td>0.965775</td>\n      <td>0.92381</td>\n      <td>{'safe': 0, 'borderline': 0.4, 'rare': 0.6}</td>\n      <td>median</td>\n    </tr>\n    <tr>\n      <th>2</th>\n      <td>0.068507</td>\n      <td>0.043919</td>\n      <td>0.085512</td>\n      <td>0.023412</td>\n      <td>0.077686</td>\n      <td>0.041522</td>\n      <td>{'safe': 0, 'borderline': 0.4, 'rare': 0.6}</td>\n      <td>std</td>\n    </tr>\n    <tr>\n      <th>3</th>\n      <td>0.029361</td>\n      <td>-0.006526</td>\n      <td>0.00908</td>\n      <td>0.079151</td>\n      <td>0.967029</td>\n      <td>0.926568</td>\n      <td>{'safe': 0, 'borderline': 0.5, 'rare': 0.5}</td>\n      <td>mean</td>\n    </tr>\n    <tr>\n      <th>4</th>\n      <td>0.055411</td>\n      <td>-0.01552</td>\n      <td>0.066758</td>\n      <td>0.078286</td>\n      <td>0.932347</td>\n      <td>0.932347</td>\n      <td>{'safe': 0, 'borderline': 0.5, 'rare': 0.5}</td>\n      <td>median</td>\n    </tr>\n    <tr>\n      <th>5</th>\n      <td>0.068622</td>\n      <td>0.042232</td>\n      <td>0.08857</td>\n      <td>0.010794</td>\n      <td>0.078871</td>\n      <td>0.026533</td>\n      <td>{'safe': 0, 'borderline': 0.5, 'rare': 0.5}</td>\n      <td>std</td>\n    </tr>\n    <tr>\n      <th>6</th>\n      <td>0.029409</td>\n      <td>0.005348</td>\n      <td>0.014288</td>\n      <td>0.083905</td>\n      <td>0.966873</td>\n      <td>0.926412</td>\n      <td>{'safe': 0, 'borderline': 0.6, 'rare': 0.4}</td>\n      <td>mean</td>\n    </tr>\n    <tr>\n      <th>7</th>\n      <td>0.027706</td>\n      <td>0.01969</td>\n      <td>0.054181</td>\n      <td>0.078753</td>\n      <td>0.965775</td>\n      <td>0.944805</td>\n      <td>{'safe': 0, 'borderline': 0.6, 'rare': 0.4}</td>\n      <td>median</td>\n    </tr>\n    <tr>\n      <th>8</th>\n      <td>0.074443</td>\n      <td>0.05459</td>\n      <td>0.090762</td>\n      <td>0.021368</td>\n      <td>0.085977</td>\n      <td>0.043124</td>\n      <td>{'safe': 0, 'borderline': 0.6, 'rare': 0.4}</td>\n      <td>std</td>\n    </tr>\n    <tr>\n      <th>9</th>\n      <td>0.048477</td>\n      <td>-0.004176</td>\n      <td>0.038162</td>\n      <td>0.089912</td>\n      <td>0.944381</td>\n      <td>0.913126</td>\n      <td>{'safe': 0.33, 'borderline': 0.33, 'rare': 0.33}</td>\n      <td>mean</td>\n    </tr>\n    <tr>\n      <th>10</th>\n      <td>0.037229</td>\n      <td>0.008292</td>\n      <td>0.061644</td>\n      <td>0.069935</td>\n      <td>0.954545</td>\n      <td>0.954545</td>\n      <td>{'safe': 0.33, 'borderline': 0.33, 'rare': 0.33}</td>\n      <td>median</td>\n    </tr>\n    <tr>\n      <th>11</th>\n      <td>0.093648</td>\n      <td>0.072826</td>\n      <td>0.105574</td>\n      <td>0.05598</td>\n      <td>0.109159</td>\n      <td>0.079282</td>\n      <td>{'safe': 0.33, 'borderline': 0.33, 'rare': 0.33}</td>\n      <td>std</td>\n    </tr>\n  </tbody>\n</table>\n</div>"
     },
     "execution_count": 19,
     "metadata": {},
     "output_type": "execute_result"
    }
   ],
   "source": [
    "fair_aggr"
   ],
   "metadata": {
    "collapsed": false,
    "ExecuteTime": {
     "end_time": "2024-03-25T20:26:26.183694Z",
     "start_time": "2024-03-25T20:26:26.176754Z"
    }
   },
   "id": "267c4efbcab0d0a8",
   "execution_count": 19
  },
  {
   "cell_type": "code",
   "outputs": [
    {
     "data": {
      "text/plain": "    accuracy balanced_accuracy        f1     gmean  \\\n0      0.735          0.617067  0.827744  0.535518   \n1      0.725           0.60356  0.828125  0.539687   \n2   0.039676          0.037454  0.031335  0.069519   \n3    0.73375          0.615501  0.826724  0.536276   \n4    0.74375          0.611467  0.835341  0.539687   \n5   0.031437          0.014841  0.027721  0.035584   \n6      0.735          0.619263  0.827151  0.543058   \n7    0.74375          0.611467  0.834008  0.539687   \n8   0.034118          0.022716  0.028819  0.045365   \n9    0.73375          0.621336  0.825868  0.547654   \n10     0.725          0.608414  0.826772  0.542677   \n11  0.033541            0.0333  0.026544    0.0635   \n\n                                             dataset    type  \n0        {'safe': 0, 'borderline': 0.4, 'rare': 0.6}    mean  \n1        {'safe': 0, 'borderline': 0.4, 'rare': 0.6}  median  \n2        {'safe': 0, 'borderline': 0.4, 'rare': 0.6}     std  \n3        {'safe': 0, 'borderline': 0.5, 'rare': 0.5}    mean  \n4        {'safe': 0, 'borderline': 0.5, 'rare': 0.5}  median  \n5        {'safe': 0, 'borderline': 0.5, 'rare': 0.5}     std  \n6        {'safe': 0, 'borderline': 0.6, 'rare': 0.4}    mean  \n7        {'safe': 0, 'borderline': 0.6, 'rare': 0.4}  median  \n8        {'safe': 0, 'borderline': 0.6, 'rare': 0.4}     std  \n9   {'safe': 0.33, 'borderline': 0.33, 'rare': 0.33}    mean  \n10  {'safe': 0.33, 'borderline': 0.33, 'rare': 0.33}  median  \n11  {'safe': 0.33, 'borderline': 0.33, 'rare': 0.33}     std  ",
      "text/html": "<div>\n<style scoped>\n    .dataframe tbody tr th:only-of-type {\n        vertical-align: middle;\n    }\n\n    .dataframe tbody tr th {\n        vertical-align: top;\n    }\n\n    .dataframe thead th {\n        text-align: right;\n    }\n</style>\n<table border=\"1\" class=\"dataframe\">\n  <thead>\n    <tr style=\"text-align: right;\">\n      <th></th>\n      <th>accuracy</th>\n      <th>balanced_accuracy</th>\n      <th>f1</th>\n      <th>gmean</th>\n      <th>dataset</th>\n      <th>type</th>\n    </tr>\n  </thead>\n  <tbody>\n    <tr>\n      <th>0</th>\n      <td>0.735</td>\n      <td>0.617067</td>\n      <td>0.827744</td>\n      <td>0.535518</td>\n      <td>{'safe': 0, 'borderline': 0.4, 'rare': 0.6}</td>\n      <td>mean</td>\n    </tr>\n    <tr>\n      <th>1</th>\n      <td>0.725</td>\n      <td>0.60356</td>\n      <td>0.828125</td>\n      <td>0.539687</td>\n      <td>{'safe': 0, 'borderline': 0.4, 'rare': 0.6}</td>\n      <td>median</td>\n    </tr>\n    <tr>\n      <th>2</th>\n      <td>0.039676</td>\n      <td>0.037454</td>\n      <td>0.031335</td>\n      <td>0.069519</td>\n      <td>{'safe': 0, 'borderline': 0.4, 'rare': 0.6}</td>\n      <td>std</td>\n    </tr>\n    <tr>\n      <th>3</th>\n      <td>0.73375</td>\n      <td>0.615501</td>\n      <td>0.826724</td>\n      <td>0.536276</td>\n      <td>{'safe': 0, 'borderline': 0.5, 'rare': 0.5}</td>\n      <td>mean</td>\n    </tr>\n    <tr>\n      <th>4</th>\n      <td>0.74375</td>\n      <td>0.611467</td>\n      <td>0.835341</td>\n      <td>0.539687</td>\n      <td>{'safe': 0, 'borderline': 0.5, 'rare': 0.5}</td>\n      <td>median</td>\n    </tr>\n    <tr>\n      <th>5</th>\n      <td>0.031437</td>\n      <td>0.014841</td>\n      <td>0.027721</td>\n      <td>0.035584</td>\n      <td>{'safe': 0, 'borderline': 0.5, 'rare': 0.5}</td>\n      <td>std</td>\n    </tr>\n    <tr>\n      <th>6</th>\n      <td>0.735</td>\n      <td>0.619263</td>\n      <td>0.827151</td>\n      <td>0.543058</td>\n      <td>{'safe': 0, 'borderline': 0.6, 'rare': 0.4}</td>\n      <td>mean</td>\n    </tr>\n    <tr>\n      <th>7</th>\n      <td>0.74375</td>\n      <td>0.611467</td>\n      <td>0.834008</td>\n      <td>0.539687</td>\n      <td>{'safe': 0, 'borderline': 0.6, 'rare': 0.4}</td>\n      <td>median</td>\n    </tr>\n    <tr>\n      <th>8</th>\n      <td>0.034118</td>\n      <td>0.022716</td>\n      <td>0.028819</td>\n      <td>0.045365</td>\n      <td>{'safe': 0, 'borderline': 0.6, 'rare': 0.4}</td>\n      <td>std</td>\n    </tr>\n    <tr>\n      <th>9</th>\n      <td>0.73375</td>\n      <td>0.621336</td>\n      <td>0.825868</td>\n      <td>0.547654</td>\n      <td>{'safe': 0.33, 'borderline': 0.33, 'rare': 0.33}</td>\n      <td>mean</td>\n    </tr>\n    <tr>\n      <th>10</th>\n      <td>0.725</td>\n      <td>0.608414</td>\n      <td>0.826772</td>\n      <td>0.542677</td>\n      <td>{'safe': 0.33, 'borderline': 0.33, 'rare': 0.33}</td>\n      <td>median</td>\n    </tr>\n    <tr>\n      <th>11</th>\n      <td>0.033541</td>\n      <td>0.0333</td>\n      <td>0.026544</td>\n      <td>0.0635</td>\n      <td>{'safe': 0.33, 'borderline': 0.33, 'rare': 0.33}</td>\n      <td>std</td>\n    </tr>\n  </tbody>\n</table>\n</div>"
     },
     "execution_count": 20,
     "metadata": {},
     "output_type": "execute_result"
    }
   ],
   "source": [
    "perf_aggr"
   ],
   "metadata": {
    "collapsed": false,
    "ExecuteTime": {
     "end_time": "2024-03-25T20:26:26.191183Z",
     "start_time": "2024-03-25T20:26:26.184988Z"
    }
   },
   "id": "10abe8ed41833fde",
   "execution_count": 20
  },
  {
   "cell_type": "code",
   "outputs": [],
   "source": [],
   "metadata": {
    "collapsed": false,
    "ExecuteTime": {
     "end_time": "2024-03-25T20:26:26.193929Z",
     "start_time": "2024-03-25T20:26:26.192323Z"
    }
   },
   "id": "4725def36d4babc2",
   "execution_count": 20
  }
 ],
 "metadata": {
  "kernelspec": {
   "display_name": "Python 3",
   "language": "python",
   "name": "python3"
  },
  "language_info": {
   "codemirror_mode": {
    "name": "ipython",
    "version": 2
   },
   "file_extension": ".py",
   "mimetype": "text/x-python",
   "name": "python",
   "nbconvert_exporter": "python",
   "pygments_lexer": "ipython2",
   "version": "2.7.6"
  }
 },
 "nbformat": 4,
 "nbformat_minor": 5
}
